{
 "cells": [
  {
   "cell_type": "code",
   "execution_count": 24,
   "id": "389e339c",
   "metadata": {},
   "outputs": [],
   "source": [
    "\n",
    "import pandas as pd\n",
    "import numpy as np\n",
    "import seaborn as sn\n",
    "import matplotlib.pyplot as plt\n",
    "import scipy.stats as st"
   ]
  },
  {
   "cell_type": "code",
   "execution_count": 2,
   "id": "5ca4137d",
   "metadata": {},
   "outputs": [],
   "source": [
    "df = pd.DataFrame(pd.read_csv('Hiring_details_with_status_LOB.csv',index_col = 0))"
   ]
  },
  {
   "cell_type": "code",
   "execution_count": null,
   "id": "b44e72f4",
   "metadata": {},
   "outputs": [],
   "source": [
    "df['Age'].fillna(df['Age'].median(),inplace=True)\n",
    "df['Offered band'].fillna('E1',inplace=True)"
   ]
  },
  {
   "cell_type": "code",
   "execution_count": 38,
   "id": "0e3ceae0",
   "metadata": {
    "scrolled": true
   },
   "outputs": [
    {
     "data": {
      "text/html": [
       "<div>\n",
       "<style scoped>\n",
       "    .dataframe tbody tr th:only-of-type {\n",
       "        vertical-align: middle;\n",
       "    }\n",
       "\n",
       "    .dataframe tbody tr th {\n",
       "        vertical-align: top;\n",
       "    }\n",
       "\n",
       "    .dataframe thead th {\n",
       "        text-align: right;\n",
       "    }\n",
       "</style>\n",
       "<table border=\"1\" class=\"dataframe\">\n",
       "  <thead>\n",
       "    <tr style=\"text-align: right;\">\n",
       "      <th></th>\n",
       "      <th>Sno</th>\n",
       "      <th>Candidate Ref</th>\n",
       "      <th>DOJ Extended</th>\n",
       "      <th>Duration to accept offer</th>\n",
       "      <th>Notice period</th>\n",
       "      <th>Offered band</th>\n",
       "      <th>Pecent hike expected in CTC</th>\n",
       "      <th>Percent hike offered in CTC</th>\n",
       "      <th>Percent difference CTC</th>\n",
       "      <th>Joining Bonus</th>\n",
       "      <th>Candidate relocate actual</th>\n",
       "      <th>Gender</th>\n",
       "      <th>Candidate Source</th>\n",
       "      <th>Rex in Yrs</th>\n",
       "      <th>Location</th>\n",
       "      <th>Age</th>\n",
       "      <th>LOB_id</th>\n",
       "      <th>Status</th>\n",
       "      <th>LOB</th>\n",
       "      <th>Unnamed: 20</th>\n",
       "    </tr>\n",
       "  </thead>\n",
       "  <tbody>\n",
       "    <tr>\n",
       "      <th>0</th>\n",
       "      <td>1</td>\n",
       "      <td>2110407</td>\n",
       "      <td>Yes</td>\n",
       "      <td>14</td>\n",
       "      <td>30</td>\n",
       "      <td>E2</td>\n",
       "      <td>-20.79</td>\n",
       "      <td>13.16</td>\n",
       "      <td>42.86</td>\n",
       "      <td>No</td>\n",
       "      <td>No</td>\n",
       "      <td>Female</td>\n",
       "      <td>Agency</td>\n",
       "      <td>7</td>\n",
       "      <td>Noida</td>\n",
       "      <td>34.0</td>\n",
       "      <td>1</td>\n",
       "      <td>Joined</td>\n",
       "      <td>ERS</td>\n",
       "      <td>NaN</td>\n",
       "    </tr>\n",
       "    <tr>\n",
       "      <th>1</th>\n",
       "      <td>2</td>\n",
       "      <td>2112635</td>\n",
       "      <td>No</td>\n",
       "      <td>18</td>\n",
       "      <td>30</td>\n",
       "      <td>E2</td>\n",
       "      <td>50.00</td>\n",
       "      <td>320.00</td>\n",
       "      <td>180.00</td>\n",
       "      <td>No</td>\n",
       "      <td>No</td>\n",
       "      <td>Male</td>\n",
       "      <td>Employee Referral</td>\n",
       "      <td>8</td>\n",
       "      <td>Chennai</td>\n",
       "      <td>34.0</td>\n",
       "      <td>2</td>\n",
       "      <td>Joined</td>\n",
       "      <td>INFRA</td>\n",
       "      <td>NaN</td>\n",
       "    </tr>\n",
       "    <tr>\n",
       "      <th>2</th>\n",
       "      <td>3</td>\n",
       "      <td>2112838</td>\n",
       "      <td>No</td>\n",
       "      <td>3</td>\n",
       "      <td>45</td>\n",
       "      <td>E2</td>\n",
       "      <td>42.84</td>\n",
       "      <td>42.84</td>\n",
       "      <td>0.00</td>\n",
       "      <td>No</td>\n",
       "      <td>No</td>\n",
       "      <td>Male</td>\n",
       "      <td>Agency</td>\n",
       "      <td>4</td>\n",
       "      <td>Noida</td>\n",
       "      <td>27.0</td>\n",
       "      <td>2</td>\n",
       "      <td>Joined</td>\n",
       "      <td>INFRA</td>\n",
       "      <td>NaN</td>\n",
       "    </tr>\n",
       "    <tr>\n",
       "      <th>3</th>\n",
       "      <td>4</td>\n",
       "      <td>2115021</td>\n",
       "      <td>No</td>\n",
       "      <td>26</td>\n",
       "      <td>30</td>\n",
       "      <td>E2</td>\n",
       "      <td>42.84</td>\n",
       "      <td>42.84</td>\n",
       "      <td>0.00</td>\n",
       "      <td>No</td>\n",
       "      <td>No</td>\n",
       "      <td>Male</td>\n",
       "      <td>Employee Referral</td>\n",
       "      <td>4</td>\n",
       "      <td>Noida</td>\n",
       "      <td>34.0</td>\n",
       "      <td>2</td>\n",
       "      <td>Joined</td>\n",
       "      <td>INFRA</td>\n",
       "      <td>NaN</td>\n",
       "    </tr>\n",
       "    <tr>\n",
       "      <th>4</th>\n",
       "      <td>5</td>\n",
       "      <td>2115125</td>\n",
       "      <td>Yes</td>\n",
       "      <td>1</td>\n",
       "      <td>120</td>\n",
       "      <td>E2</td>\n",
       "      <td>42.59</td>\n",
       "      <td>42.59</td>\n",
       "      <td>0.00</td>\n",
       "      <td>No</td>\n",
       "      <td>Yes</td>\n",
       "      <td>Male</td>\n",
       "      <td>Employee Referral</td>\n",
       "      <td>6</td>\n",
       "      <td>Noida</td>\n",
       "      <td>34.0</td>\n",
       "      <td>2</td>\n",
       "      <td>Joined</td>\n",
       "      <td>INFRA</td>\n",
       "      <td>NaN</td>\n",
       "    </tr>\n",
       "  </tbody>\n",
       "</table>\n",
       "</div>"
      ],
      "text/plain": [
       "   Sno  Candidate Ref DOJ Extended  Duration to accept offer  Notice period  \\\n",
       "0    1        2110407          Yes                        14             30   \n",
       "1    2        2112635           No                        18             30   \n",
       "2    3        2112838           No                         3             45   \n",
       "3    4        2115021           No                        26             30   \n",
       "4    5        2115125          Yes                         1            120   \n",
       "\n",
       "  Offered band  Pecent hike expected in CTC  Percent hike offered in CTC  \\\n",
       "0           E2                       -20.79                        13.16   \n",
       "1           E2                        50.00                       320.00   \n",
       "2           E2                        42.84                        42.84   \n",
       "3           E2                        42.84                        42.84   \n",
       "4           E2                        42.59                        42.59   \n",
       "\n",
       "   Percent difference CTC Joining Bonus Candidate relocate actual  Gender  \\\n",
       "0                   42.86            No                        No  Female   \n",
       "1                  180.00            No                        No    Male   \n",
       "2                    0.00            No                        No    Male   \n",
       "3                    0.00            No                        No    Male   \n",
       "4                    0.00            No                       Yes    Male   \n",
       "\n",
       "    Candidate Source  Rex in Yrs Location   Age  LOB_id  Status    LOB  \\\n",
       "0             Agency           7    Noida  34.0       1  Joined    ERS   \n",
       "1  Employee Referral           8  Chennai  34.0       2  Joined  INFRA   \n",
       "2             Agency           4    Noida  27.0       2  Joined  INFRA   \n",
       "3  Employee Referral           4    Noida  34.0       2  Joined  INFRA   \n",
       "4  Employee Referral           6    Noida  34.0       2  Joined  INFRA   \n",
       "\n",
       "   Unnamed: 20  \n",
       "0          NaN  \n",
       "1          NaN  \n",
       "2          NaN  \n",
       "3          NaN  \n",
       "4          NaN  "
      ]
     },
     "execution_count": 38,
     "metadata": {},
     "output_type": "execute_result"
    }
   ],
   "source": [
    "df.head()\n"
   ]
  },
  {
   "cell_type": "markdown",
   "id": "73ffd8f2",
   "metadata": {},
   "source": [
    "# Hypothesis for Duration to accept offer"
   ]
  },
  {
   "cell_type": "code",
   "execution_count": 64,
   "id": "0b975121",
   "metadata": {},
   "outputs": [],
   "source": [
    "JD = df[df.Status=='Joined']['Duration to accept offer']\n",
    "NJD = df[df.Status=='Not Joined']['Duration to accept offer']"
   ]
  },
  {
   "cell_type": "code",
   "execution_count": 65,
   "id": "0ba319e6",
   "metadata": {},
   "outputs": [
    {
     "name": "stdout",
     "output_type": "stream",
     "text": [
      "ShapiroResult(statistic=0.7682324647903442, pvalue=1.3312335411085762e-43) ShapiroResult(statistic=0.8031497001647949, pvalue=0.0)\n"
     ]
    }
   ],
   "source": [
    "print(st.shapiro(NJD), st.shapiro(JD))\n",
    "### pvalue < 0.05---> reject H0 --> the data does not follow normal distribution"
   ]
  },
  {
   "cell_type": "code",
   "execution_count": 37,
   "id": "88de286f",
   "metadata": {},
   "outputs": [
    {
     "data": {
      "text/html": [
       "<div>\n",
       "<style scoped>\n",
       "    .dataframe tbody tr th:only-of-type {\n",
       "        vertical-align: middle;\n",
       "    }\n",
       "\n",
       "    .dataframe tbody tr th {\n",
       "        vertical-align: top;\n",
       "    }\n",
       "\n",
       "    .dataframe thead th {\n",
       "        text-align: right;\n",
       "    }\n",
       "</style>\n",
       "<table border=\"1\" class=\"dataframe\">\n",
       "  <thead>\n",
       "    <tr style=\"text-align: right;\">\n",
       "      <th></th>\n",
       "      <th>count</th>\n",
       "      <th>mean</th>\n",
       "      <th>std</th>\n",
       "      <th>min</th>\n",
       "      <th>25%</th>\n",
       "      <th>50%</th>\n",
       "      <th>75%</th>\n",
       "      <th>max</th>\n",
       "    </tr>\n",
       "    <tr>\n",
       "      <th>Status</th>\n",
       "      <th></th>\n",
       "      <th></th>\n",
       "      <th></th>\n",
       "      <th></th>\n",
       "      <th></th>\n",
       "      <th></th>\n",
       "      <th></th>\n",
       "      <th></th>\n",
       "    </tr>\n",
       "  </thead>\n",
       "  <tbody>\n",
       "    <tr>\n",
       "      <th>Joined</th>\n",
       "      <td>7313.0</td>\n",
       "      <td>20.624368</td>\n",
       "      <td>24.435283</td>\n",
       "      <td>0.0</td>\n",
       "      <td>2.0</td>\n",
       "      <td>10.0</td>\n",
       "      <td>32.0</td>\n",
       "      <td>143.0</td>\n",
       "    </tr>\n",
       "    <tr>\n",
       "      <th>Not Joined</th>\n",
       "      <td>1682.0</td>\n",
       "      <td>24.956599</td>\n",
       "      <td>30.857484</td>\n",
       "      <td>0.0</td>\n",
       "      <td>4.0</td>\n",
       "      <td>10.0</td>\n",
       "      <td>37.0</td>\n",
       "      <td>224.0</td>\n",
       "    </tr>\n",
       "  </tbody>\n",
       "</table>\n",
       "</div>"
      ],
      "text/plain": [
       "             count       mean        std  min  25%   50%   75%    max\n",
       "Status                                                               \n",
       "Joined      7313.0  20.624368  24.435283  0.0  2.0  10.0  32.0  143.0\n",
       "Not Joined  1682.0  24.956599  30.857484  0.0  4.0  10.0  37.0  224.0"
      ]
     },
     "execution_count": 37,
     "metadata": {},
     "output_type": "execute_result"
    }
   ],
   "source": [
    "df.groupby('Status')['Duration to accept offer'].describe()"
   ]
  },
  {
   "cell_type": "code",
   "execution_count": 39,
   "id": "5381454b",
   "metadata": {},
   "outputs": [
    {
     "data": {
      "text/plain": [
       "<AxesSubplot:xlabel='Status', ylabel='Duration to accept offer'>"
      ]
     },
     "execution_count": 39,
     "metadata": {},
     "output_type": "execute_result"
    },
    {
     "data": {
      "image/png": "[encoded data removed]",
      "text/plain": [
       "<Figure size 432x288 with 1 Axes>"
      ]
     },
     "metadata": {
      "needs_background": "light"
     },
     "output_type": "display_data"
    }
   ],
   "source": [
    "sn.boxplot(x=df.Status, y=df['Duration to accept offer'])"
   ]
  },
  {
   "cell_type": "code",
   "execution_count": 40,
   "id": "8e8c1961",
   "metadata": {},
   "outputs": [],
   "source": [
    "JC=df[df.Status=='Joined']['Duration to accept offer']\n",
    "NJC= df[df.Status=='Not Joined']['Duration to accept offer']"
   ]
  },
  {
   "cell_type": "code",
   "execution_count": 41,
   "id": "9cb502d6",
   "metadata": {},
   "outputs": [
    {
     "data": {
      "text/plain": [
       "LeveneResult(statistic=32.56020341340111, pvalue=1.1921738123609167e-08)"
      ]
     },
     "execution_count": 41,
     "metadata": {},
     "output_type": "execute_result"
    }
   ],
   "source": [
    "## test of variance equality ( levene test)\n",
    "## H0: pop variances are same; H1: Pop variances are different\n",
    "st.levene(JC,NJC)"
   ]
  },
  {
   "cell_type": "code",
   "execution_count": 42,
   "id": "2ada9ad3",
   "metadata": {},
   "outputs": [],
   "source": [
    "##pvalue< alpha(0.05 )---> reject H0 hence we conclude variance are different"
   ]
  },
  {
   "cell_type": "code",
   "execution_count": 43,
   "id": "89a68f60",
   "metadata": {},
   "outputs": [],
   "source": [
    "## test of Association - Chi square test \n",
    "## test the claim that is there any association b/w Status and the Duration to accept offer letter\n",
    "## H0: there is no association b/w Status and the Duration to accept\n",
    "## H1: There is an association b/w Status and the Duration to accept"
   ]
  },
  {
   "cell_type": "code",
   "execution_count": 44,
   "id": "60be8dfc",
   "metadata": {},
   "outputs": [
    {
     "data": {
      "text/html": [
       "<div>\n",
       "<style scoped>\n",
       "    .dataframe tbody tr th:only-of-type {\n",
       "        vertical-align: middle;\n",
       "    }\n",
       "\n",
       "    .dataframe tbody tr th {\n",
       "        vertical-align: top;\n",
       "    }\n",
       "\n",
       "    .dataframe thead th {\n",
       "        text-align: right;\n",
       "    }\n",
       "</style>\n",
       "<table border=\"1\" class=\"dataframe\">\n",
       "  <thead>\n",
       "    <tr style=\"text-align: right;\">\n",
       "      <th>Duration to accept offer</th>\n",
       "      <th>0</th>\n",
       "      <th>1</th>\n",
       "      <th>2</th>\n",
       "      <th>3</th>\n",
       "      <th>4</th>\n",
       "      <th>5</th>\n",
       "      <th>6</th>\n",
       "      <th>7</th>\n",
       "      <th>8</th>\n",
       "      <th>9</th>\n",
       "      <th>...</th>\n",
       "      <th>127</th>\n",
       "      <th>129</th>\n",
       "      <th>130</th>\n",
       "      <th>131</th>\n",
       "      <th>140</th>\n",
       "      <th>143</th>\n",
       "      <th>163</th>\n",
       "      <th>181</th>\n",
       "      <th>210</th>\n",
       "      <th>224</th>\n",
       "    </tr>\n",
       "    <tr>\n",
       "      <th>Status</th>\n",
       "      <th></th>\n",
       "      <th></th>\n",
       "      <th></th>\n",
       "      <th></th>\n",
       "      <th></th>\n",
       "      <th></th>\n",
       "      <th></th>\n",
       "      <th></th>\n",
       "      <th></th>\n",
       "      <th></th>\n",
       "      <th></th>\n",
       "      <th></th>\n",
       "      <th></th>\n",
       "      <th></th>\n",
       "      <th></th>\n",
       "      <th></th>\n",
       "      <th></th>\n",
       "      <th></th>\n",
       "      <th></th>\n",
       "      <th></th>\n",
       "      <th></th>\n",
       "    </tr>\n",
       "  </thead>\n",
       "  <tbody>\n",
       "    <tr>\n",
       "      <th>Joined</th>\n",
       "      <td>686</td>\n",
       "      <td>730</td>\n",
       "      <td>473</td>\n",
       "      <td>440</td>\n",
       "      <td>353</td>\n",
       "      <td>302</td>\n",
       "      <td>257</td>\n",
       "      <td>198</td>\n",
       "      <td>114</td>\n",
       "      <td>101</td>\n",
       "      <td>...</td>\n",
       "      <td>0</td>\n",
       "      <td>2</td>\n",
       "      <td>0</td>\n",
       "      <td>1</td>\n",
       "      <td>1</td>\n",
       "      <td>1</td>\n",
       "      <td>0</td>\n",
       "      <td>0</td>\n",
       "      <td>0</td>\n",
       "      <td>0</td>\n",
       "    </tr>\n",
       "    <tr>\n",
       "      <th>Not Joined</th>\n",
       "      <td>71</td>\n",
       "      <td>113</td>\n",
       "      <td>132</td>\n",
       "      <td>78</td>\n",
       "      <td>122</td>\n",
       "      <td>78</td>\n",
       "      <td>77</td>\n",
       "      <td>67</td>\n",
       "      <td>52</td>\n",
       "      <td>26</td>\n",
       "      <td>...</td>\n",
       "      <td>2</td>\n",
       "      <td>1</td>\n",
       "      <td>1</td>\n",
       "      <td>0</td>\n",
       "      <td>0</td>\n",
       "      <td>0</td>\n",
       "      <td>1</td>\n",
       "      <td>1</td>\n",
       "      <td>1</td>\n",
       "      <td>1</td>\n",
       "    </tr>\n",
       "  </tbody>\n",
       "</table>\n",
       "<p>2 rows × 136 columns</p>\n",
       "</div>"
      ],
      "text/plain": [
       "Duration to accept offer  0    1    2    3    4    5    6    7    8    9    \\\n",
       "Status                                                                       \n",
       "Joined                    686  730  473  440  353  302  257  198  114  101   \n",
       "Not Joined                 71  113  132   78  122   78   77   67   52   26   \n",
       "\n",
       "Duration to accept offer  ...  127  129  130  131  140  143  163  181  210  \\\n",
       "Status                    ...                                                \n",
       "Joined                    ...    0    2    0    1    1    1    0    0    0   \n",
       "Not Joined                ...    2    1    1    0    0    0    1    1    1   \n",
       "\n",
       "Duration to accept offer  224  \n",
       "Status                         \n",
       "Joined                      0  \n",
       "Not Joined                  1  \n",
       "\n",
       "[2 rows x 136 columns]"
      ]
     },
     "execution_count": 44,
     "metadata": {},
     "output_type": "execute_result"
    }
   ],
   "source": [
    "table = pd.crosstab(df.Status, df['Duration to accept offer'])\n",
    "table"
   ]
  },
  {
   "cell_type": "code",
   "execution_count": 68,
   "id": "63c9b0e6",
   "metadata": {},
   "outputs": [
    {
     "data": {
      "text/plain": [
       "(416.3466859886763,\n",
       " 1.9247037686010985e-30,\n",
       " 135,\n",
       " array([[6.15446470e+02, 6.85365092e+02, 4.91869372e+02, 4.21137743e+02,\n",
       "         3.86178432e+02, 3.08942746e+02, 2.71544414e+02, 2.15446915e+02,\n",
       "         1.34959200e+02, 1.03251918e+02, 1.23577098e+02, 1.17073041e+02,\n",
       "         1.06503947e+02, 9.75608671e+01, 8.86177877e+01, 7.23576431e+01,\n",
       "         8.61787660e+01, 8.37397443e+01, 8.29267371e+01, 6.42275709e+01,\n",
       "         9.83738744e+01, 7.96747082e+01, 5.69105058e+01, 5.69105058e+01,\n",
       "         7.31706504e+01, 5.69105058e+01, 6.66665926e+01, 7.07316287e+01,\n",
       "         8.53657588e+01, 5.85365203e+01, 5.52844914e+01, 8.53657588e+01,\n",
       "         6.82926070e+01, 5.69105058e+01, 7.23576431e+01, 6.66665926e+01,\n",
       "         3.73983324e+01, 5.28454697e+01, 4.95934408e+01, 5.60974986e+01,\n",
       "         4.71544191e+01, 5.12194553e+01, 5.28454697e+01, 4.22763758e+01,\n",
       "         3.49593107e+01, 2.52032240e+01, 3.82113396e+01, 2.35772096e+01,\n",
       "         2.68292385e+01, 3.49593107e+01, 3.17072818e+01, 2.43902168e+01,\n",
       "         2.43902168e+01, 2.52032240e+01, 2.27642023e+01, 2.92682601e+01,\n",
       "         2.76422457e+01, 3.25202890e+01, 2.43902168e+01, 3.33332963e+01,\n",
       "         2.60162312e+01, 3.73983324e+01, 3.90243469e+01, 4.87804336e+01,\n",
       "         3.08942746e+01, 3.17072818e+01, 3.25202890e+01, 2.35772096e+01,\n",
       "         3.57723180e+01, 2.84552529e+01, 2.43902168e+01, 1.70731518e+01,\n",
       "         1.78861590e+01, 1.38211228e+01, 1.46341301e+01, 1.78861590e+01,\n",
       "         8.94307949e+00, 1.95121734e+01, 1.05690939e+01, 8.94307949e+00,\n",
       "         1.21951084e+01, 1.30081156e+01, 3.25202890e+00, 6.50405781e+00,\n",
       "         1.05690939e+01, 3.25202890e+00, 8.94307949e+00, 7.31706504e+00,\n",
       "         1.05690939e+01, 8.13007226e+00, 1.05690939e+01, 1.21951084e+01,\n",
       "         1.38211228e+01, 1.05690939e+01, 1.30081156e+01, 8.94307949e+00,\n",
       "         1.54471373e+01, 1.30081156e+01, 1.21951084e+01, 9.75608671e+00,\n",
       "         4.87804336e+00, 1.70731518e+01, 6.50405781e+00, 6.50405781e+00,\n",
       "         4.06503613e+00, 6.50405781e+00, 2.43902168e+00, 4.87804336e+00,\n",
       "         3.25202890e+00, 6.50405781e+00, 5.69105058e+00, 2.43902168e+00,\n",
       "         2.43902168e+00, 1.62601445e+00, 8.13007226e-01, 3.25202890e+00,\n",
       "         8.13007226e-01, 8.13007226e-01, 2.43902168e+00, 2.43902168e+00,\n",
       "         1.62601445e+00, 8.13007226e-01, 1.62601445e+00, 2.43902168e+00,\n",
       "         1.62601445e+00, 4.06503613e+00, 1.62601445e+00, 2.43902168e+00,\n",
       "         8.13007226e-01, 8.13007226e-01, 8.13007226e-01, 8.13007226e-01,\n",
       "         8.13007226e-01, 8.13007226e-01, 8.13007226e-01, 8.13007226e-01],\n",
       "        [1.41553530e+02, 1.57634908e+02, 1.13130628e+02, 9.68622568e+01,\n",
       "         8.88215675e+01, 7.10572540e+01, 6.24555864e+01, 4.95530850e+01,\n",
       "         3.10408004e+01, 2.37480823e+01, 2.84229016e+01, 2.69269594e+01,\n",
       "         2.44960534e+01, 2.24391329e+01, 2.03822123e+01, 1.66423569e+01,\n",
       "         1.98212340e+01, 1.92602557e+01, 1.90732629e+01, 1.47724291e+01,\n",
       "         2.26261256e+01, 1.83252918e+01, 1.30894942e+01, 1.30894942e+01,\n",
       "         1.68293496e+01, 1.30894942e+01, 1.53334074e+01, 1.62683713e+01,\n",
       "         1.96342412e+01, 1.34634797e+01, 1.27155086e+01, 1.96342412e+01,\n",
       "         1.57073930e+01, 1.30894942e+01, 1.66423569e+01, 1.53334074e+01,\n",
       "         8.60166759e+00, 1.21545303e+01, 1.14065592e+01, 1.29025014e+01,\n",
       "         1.08455809e+01, 1.17805447e+01, 1.21545303e+01, 9.72362424e+00,\n",
       "         8.04068927e+00, 5.79677599e+00, 8.78866037e+00, 5.42279044e+00,\n",
       "         6.17076153e+00, 8.04068927e+00, 7.29271818e+00, 5.60978321e+00,\n",
       "         5.60978321e+00, 5.79677599e+00, 5.23579767e+00, 6.73173986e+00,\n",
       "         6.35775431e+00, 7.47971095e+00, 5.60978321e+00, 7.66670372e+00,\n",
       "         5.98376876e+00, 8.60166759e+00, 8.97565314e+00, 1.12195664e+01,\n",
       "         7.10572540e+00, 7.29271818e+00, 7.47971095e+00, 5.42279044e+00,\n",
       "         8.22768205e+00, 6.54474708e+00, 5.60978321e+00, 3.92684825e+00,\n",
       "         4.11384102e+00, 3.17887715e+00, 3.36586993e+00, 4.11384102e+00,\n",
       "         2.05692051e+00, 4.48782657e+00, 2.43090606e+00, 2.05692051e+00,\n",
       "         2.80489161e+00, 2.99188438e+00, 7.47971095e-01, 1.49594219e+00,\n",
       "         2.43090606e+00, 7.47971095e-01, 2.05692051e+00, 1.68293496e+00,\n",
       "         2.43090606e+00, 1.86992774e+00, 2.43090606e+00, 2.80489161e+00,\n",
       "         3.17887715e+00, 2.43090606e+00, 2.99188438e+00, 2.05692051e+00,\n",
       "         3.55286270e+00, 2.99188438e+00, 2.80489161e+00, 2.24391329e+00,\n",
       "         1.12195664e+00, 3.92684825e+00, 1.49594219e+00, 1.49594219e+00,\n",
       "         9.34963869e-01, 1.49594219e+00, 5.60978321e-01, 1.12195664e+00,\n",
       "         7.47971095e-01, 1.49594219e+00, 1.30894942e+00, 5.60978321e-01,\n",
       "         5.60978321e-01, 3.73985548e-01, 1.86992774e-01, 7.47971095e-01,\n",
       "         1.86992774e-01, 1.86992774e-01, 5.60978321e-01, 5.60978321e-01,\n",
       "         3.73985548e-01, 1.86992774e-01, 3.73985548e-01, 5.60978321e-01,\n",
       "         3.73985548e-01, 9.34963869e-01, 3.73985548e-01, 5.60978321e-01,\n",
       "         1.86992774e-01, 1.86992774e-01, 1.86992774e-01, 1.86992774e-01,\n",
       "         1.86992774e-01, 1.86992774e-01, 1.86992774e-01, 1.86992774e-01]]))"
      ]
     },
     "execution_count": 68,
     "metadata": {},
     "output_type": "execute_result"
    }
   ],
   "source": [
    "st.chi2_contingency(table)"
   ]
  },
  {
   "cell_type": "code",
   "execution_count": 66,
   "id": "9e32f20d",
   "metadata": {},
   "outputs": [],
   "source": [
    "## pvalue<alpha ---> rejects null hypothesis hence \n",
    "## there is a relation between Duration of acceptance and Status"
   ]
  },
  {
   "cell_type": "markdown",
   "id": "0f5bb0f4",
   "metadata": {},
   "source": [
    "# Hypothesis for location"
   ]
  },
  {
   "cell_type": "code",
   "execution_count": 67,
   "id": "ecb768be",
   "metadata": {},
   "outputs": [
    {
     "data": {
      "text/html": [
       "<div>\n",
       "<style scoped>\n",
       "    .dataframe tbody tr th:only-of-type {\n",
       "        vertical-align: middle;\n",
       "    }\n",
       "\n",
       "    .dataframe tbody tr th {\n",
       "        vertical-align: top;\n",
       "    }\n",
       "\n",
       "    .dataframe thead th {\n",
       "        text-align: right;\n",
       "    }\n",
       "</style>\n",
       "<table border=\"1\" class=\"dataframe\">\n",
       "  <thead>\n",
       "    <tr style=\"text-align: right;\">\n",
       "      <th>Location</th>\n",
       "      <th>Ahmedabad</th>\n",
       "      <th>Bangalore</th>\n",
       "      <th>Chennai</th>\n",
       "      <th>Cochin</th>\n",
       "      <th>Gurgaon</th>\n",
       "      <th>Hyderabad</th>\n",
       "      <th>Kolkata</th>\n",
       "      <th>Mumbai</th>\n",
       "      <th>Noida</th>\n",
       "      <th>Others</th>\n",
       "      <th>Pune</th>\n",
       "    </tr>\n",
       "    <tr>\n",
       "      <th>Status</th>\n",
       "      <th></th>\n",
       "      <th></th>\n",
       "      <th></th>\n",
       "      <th></th>\n",
       "      <th></th>\n",
       "      <th></th>\n",
       "      <th></th>\n",
       "      <th></th>\n",
       "      <th></th>\n",
       "      <th></th>\n",
       "      <th></th>\n",
       "    </tr>\n",
       "  </thead>\n",
       "  <tbody>\n",
       "    <tr>\n",
       "      <th>Joined</th>\n",
       "      <td>5</td>\n",
       "      <td>1742</td>\n",
       "      <td>2486</td>\n",
       "      <td>7</td>\n",
       "      <td>118</td>\n",
       "      <td>266</td>\n",
       "      <td>100</td>\n",
       "      <td>176</td>\n",
       "      <td>2362</td>\n",
       "      <td>13</td>\n",
       "      <td>38</td>\n",
       "    </tr>\n",
       "    <tr>\n",
       "      <th>Not Joined</th>\n",
       "      <td>1</td>\n",
       "      <td>488</td>\n",
       "      <td>664</td>\n",
       "      <td>1</td>\n",
       "      <td>28</td>\n",
       "      <td>75</td>\n",
       "      <td>29</td>\n",
       "      <td>21</td>\n",
       "      <td>365</td>\n",
       "      <td>0</td>\n",
       "      <td>10</td>\n",
       "    </tr>\n",
       "  </tbody>\n",
       "</table>\n",
       "</div>"
      ],
      "text/plain": [
       "Location    Ahmedabad  Bangalore  Chennai  Cochin  Gurgaon  Hyderabad  \\\n",
       "Status                                                                  \n",
       "Joined              5       1742     2486       7      118        266   \n",
       "Not Joined          1        488      664       1       28         75   \n",
       "\n",
       "Location    Kolkata  Mumbai  Noida  Others  Pune  \n",
       "Status                                            \n",
       "Joined          100     176   2362      13    38  \n",
       "Not Joined       29      21    365       0    10  "
      ]
     },
     "execution_count": 67,
     "metadata": {},
     "output_type": "execute_result"
    }
   ],
   "source": [
    "table1 = pd.crosstab(df.Status, df.Location)\n",
    "table1"
   ]
  },
  {
   "cell_type": "code",
   "execution_count": 70,
   "id": "cec92fd3",
   "metadata": {},
   "outputs": [
    {
     "data": {
      "text/plain": [
       "(92.67231058612991,\n",
       " 1.5784067706590078e-15,\n",
       " 10,\n",
       " array([[4.87804336e+00, 1.81300611e+03, 2.56097276e+03, 6.50405781e+00,\n",
       "         1.18699055e+02, 2.77235464e+02, 1.04877932e+02, 1.60162424e+02,\n",
       "         2.21707071e+03, 1.05690939e+01, 3.90243469e+01],\n",
       "        [1.12195664e+00, 4.16993885e+02, 5.89027237e+02, 1.49594219e+00,\n",
       "         2.73009450e+01, 6.37645359e+01, 2.41220678e+01, 3.68375764e+01,\n",
       "         5.09929294e+02, 2.43090606e+00, 8.97565314e+00]]))"
      ]
     },
     "execution_count": 70,
     "metadata": {},
     "output_type": "execute_result"
    }
   ],
   "source": [
    "st.chi2_contingency(table1)"
   ]
  },
  {
   "cell_type": "markdown",
   "id": "56fb9780",
   "metadata": {},
   "source": [
    "## there is association between location and Status"
   ]
  },
  {
   "cell_type": "markdown",
   "id": "db9c6402",
   "metadata": {},
   "source": [
    "# Hypothesis for Joining Bonus"
   ]
  },
  {
   "cell_type": "code",
   "execution_count": 72,
   "id": "f1244147",
   "metadata": {},
   "outputs": [
    {
     "data": {
      "text/html": [
       "<div>\n",
       "<style scoped>\n",
       "    .dataframe tbody tr th:only-of-type {\n",
       "        vertical-align: middle;\n",
       "    }\n",
       "\n",
       "    .dataframe tbody tr th {\n",
       "        vertical-align: top;\n",
       "    }\n",
       "\n",
       "    .dataframe thead th {\n",
       "        text-align: right;\n",
       "    }\n",
       "</style>\n",
       "<table border=\"1\" class=\"dataframe\">\n",
       "  <thead>\n",
       "    <tr style=\"text-align: right;\">\n",
       "      <th>Joining Bonus</th>\n",
       "      <th>No</th>\n",
       "      <th>Yes</th>\n",
       "    </tr>\n",
       "    <tr>\n",
       "      <th>Status</th>\n",
       "      <th></th>\n",
       "      <th></th>\n",
       "    </tr>\n",
       "  </thead>\n",
       "  <tbody>\n",
       "    <tr>\n",
       "      <th>Joined</th>\n",
       "      <td>6977</td>\n",
       "      <td>336</td>\n",
       "    </tr>\n",
       "    <tr>\n",
       "      <th>Not Joined</th>\n",
       "      <td>1601</td>\n",
       "      <td>81</td>\n",
       "    </tr>\n",
       "  </tbody>\n",
       "</table>\n",
       "</div>"
      ],
      "text/plain": [
       "Joining Bonus    No  Yes\n",
       "Status                  \n",
       "Joined         6977  336\n",
       "Not Joined     1601   81"
      ]
     },
     "execution_count": 72,
     "metadata": {},
     "output_type": "execute_result"
    }
   ],
   "source": [
    "table2 = pd.crosstab(df.Status, df['Joining Bonus'])\n",
    "table2"
   ]
  },
  {
   "cell_type": "code",
   "execution_count": 73,
   "id": "05ff4af3",
   "metadata": {},
   "outputs": [
    {
     "data": {
      "text/plain": [
       "(0.10537634560284669,\n",
       " 0.7454707857023846,\n",
       " 1,\n",
       " array([[6973.97598666,  339.02401334],\n",
       "        [1604.02401334,   77.97598666]]))"
      ]
     },
     "execution_count": 73,
     "metadata": {},
     "output_type": "execute_result"
    }
   ],
   "source": [
    "st.chi2_contingency(table2)"
   ]
  },
  {
   "cell_type": "markdown",
   "id": "72f5375d",
   "metadata": {},
   "source": [
    "## there is association between joining bonus and status"
   ]
  },
  {
   "cell_type": "markdown",
   "id": "83ff2fcb",
   "metadata": {},
   "source": [
    "# Hypothesis for Gender"
   ]
  },
  {
   "cell_type": "code",
   "execution_count": 75,
   "id": "bdef699b",
   "metadata": {},
   "outputs": [
    {
     "data": {
      "text/html": [
       "<div>\n",
       "<style scoped>\n",
       "    .dataframe tbody tr th:only-of-type {\n",
       "        vertical-align: middle;\n",
       "    }\n",
       "\n",
       "    .dataframe tbody tr th {\n",
       "        vertical-align: top;\n",
       "    }\n",
       "\n",
       "    .dataframe thead th {\n",
       "        text-align: right;\n",
       "    }\n",
       "</style>\n",
       "<table border=\"1\" class=\"dataframe\">\n",
       "  <thead>\n",
       "    <tr style=\"text-align: right;\">\n",
       "      <th>Gender</th>\n",
       "      <th>Female</th>\n",
       "      <th>Male</th>\n",
       "    </tr>\n",
       "    <tr>\n",
       "      <th>Status</th>\n",
       "      <th></th>\n",
       "      <th></th>\n",
       "    </tr>\n",
       "  </thead>\n",
       "  <tbody>\n",
       "    <tr>\n",
       "      <th>Joined</th>\n",
       "      <td>1278</td>\n",
       "      <td>6035</td>\n",
       "    </tr>\n",
       "    <tr>\n",
       "      <th>Not Joined</th>\n",
       "      <td>273</td>\n",
       "      <td>1409</td>\n",
       "    </tr>\n",
       "  </tbody>\n",
       "</table>\n",
       "</div>"
      ],
      "text/plain": [
       "Gender      Female  Male\n",
       "Status                  \n",
       "Joined        1278  6035\n",
       "Not Joined     273  1409"
      ]
     },
     "execution_count": 75,
     "metadata": {},
     "output_type": "execute_result"
    }
   ],
   "source": [
    "table3 = pd.crosstab(df.Status, df['Gender'])\n",
    "table3"
   ]
  },
  {
   "cell_type": "code",
   "execution_count": 77,
   "id": "b5dc1067",
   "metadata": {},
   "outputs": [
    {
     "data": {
      "text/plain": [
       "(1.399549766122848,\n",
       " 0.23679896899569233,\n",
       " 1,\n",
       " array([[1260.97420789, 6052.02579211],\n",
       "        [ 290.02579211, 1391.97420789]]))"
      ]
     },
     "execution_count": 77,
     "metadata": {},
     "output_type": "execute_result"
    }
   ],
   "source": [
    "st.chi2_contingency(table3)"
   ]
  },
  {
   "cell_type": "markdown",
   "id": "66e136a8",
   "metadata": {},
   "source": [
    "there is NO association between Gender and status|"
   ]
  },
  {
   "cell_type": "markdown",
   "id": "c6227dd1",
   "metadata": {},
   "source": [
    "# Hypothesis for LOB"
   ]
  },
  {
   "cell_type": "code",
   "execution_count": 80,
   "id": "54bfbecc",
   "metadata": {
    "scrolled": true
   },
   "outputs": [
    {
     "data": {
      "text/html": [
       "<div>\n",
       "<style scoped>\n",
       "    .dataframe tbody tr th:only-of-type {\n",
       "        vertical-align: middle;\n",
       "    }\n",
       "\n",
       "    .dataframe tbody tr th {\n",
       "        vertical-align: top;\n",
       "    }\n",
       "\n",
       "    .dataframe thead th {\n",
       "        text-align: right;\n",
       "    }\n",
       "</style>\n",
       "<table border=\"1\" class=\"dataframe\">\n",
       "  <thead>\n",
       "    <tr style=\"text-align: right;\">\n",
       "      <th>LOB</th>\n",
       "      <th>AXON</th>\n",
       "      <th>BFSI</th>\n",
       "      <th>CSMP</th>\n",
       "      <th>EAS</th>\n",
       "      <th>ERS</th>\n",
       "      <th>ETS</th>\n",
       "      <th>Healthcare</th>\n",
       "      <th>INFRA</th>\n",
       "      <th>MMS</th>\n",
       "    </tr>\n",
       "    <tr>\n",
       "      <th>Status</th>\n",
       "      <th></th>\n",
       "      <th></th>\n",
       "      <th></th>\n",
       "      <th></th>\n",
       "      <th></th>\n",
       "      <th></th>\n",
       "      <th></th>\n",
       "      <th></th>\n",
       "      <th></th>\n",
       "    </tr>\n",
       "  </thead>\n",
       "  <tbody>\n",
       "    <tr>\n",
       "      <th>Joined</th>\n",
       "      <td>440</td>\n",
       "      <td>1059</td>\n",
       "      <td>472</td>\n",
       "      <td>254</td>\n",
       "      <td>1895</td>\n",
       "      <td>574</td>\n",
       "      <td>102</td>\n",
       "      <td>2502</td>\n",
       "      <td>15</td>\n",
       "    </tr>\n",
       "    <tr>\n",
       "      <th>Not Joined</th>\n",
       "      <td>128</td>\n",
       "      <td>337</td>\n",
       "      <td>107</td>\n",
       "      <td>92</td>\n",
       "      <td>531</td>\n",
       "      <td>117</td>\n",
       "      <td>22</td>\n",
       "      <td>348</td>\n",
       "      <td>0</td>\n",
       "    </tr>\n",
       "  </tbody>\n",
       "</table>\n",
       "</div>"
      ],
      "text/plain": [
       "LOB         AXON  BFSI  CSMP  EAS   ERS  ETS  Healthcare  INFRA  MMS\n",
       "Status                                                              \n",
       "Joined       440  1059   472  254  1895  574         102   2502   15\n",
       "Not Joined   128   337   107   92   531  117          22    348    0"
      ]
     },
     "execution_count": 80,
     "metadata": {},
     "output_type": "execute_result"
    }
   ],
   "source": [
    "table4 = pd.crosstab(df.Status, df['LOB'])\n",
    "table4"
   ]
  },
  {
   "cell_type": "code",
   "execution_count": 81,
   "id": "9f75e0d5",
   "metadata": {},
   "outputs": [
    {
     "data": {
      "text/plain": [
       "(146.97097267814743,\n",
       " 8.393814703388281e-28,\n",
       " 8,\n",
       " array([[ 461.7881045 , 1134.95808783,  470.73118399,  281.30050028,\n",
       "         1972.35553085,  561.78799333,  100.81289605, 2317.07059477,\n",
       "           12.19510839],\n",
       "        [ 106.2118955 ,  261.04191217,  108.26881601,   64.69949972,\n",
       "          453.64446915,  129.21200667,   23.18710395,  532.92940523,\n",
       "            2.80489161]]))"
      ]
     },
     "execution_count": 81,
     "metadata": {},
     "output_type": "execute_result"
    }
   ],
   "source": [
    "st.chi2_contingency(table4)"
   ]
  },
  {
   "cell_type": "markdown",
   "id": "56c5aa57",
   "metadata": {},
   "source": [
    "There is an association between LOB and Status"
   ]
  },
  {
   "cell_type": "code",
   "execution_count": null,
   "id": "f82278d5",
   "metadata": {},
   "outputs": [],
   "source": []
  }
 ],
 "metadata": {
  "kernelspec": {
   "display_name": "Python 3",
   "language": "python",
   "name": "python3"
  },
  "language_info": {
   "codemirror_mode": {
    "name": "ipython",
    "version": 3
   },
   "file_extension": ".py",
   "mimetype": "text/x-python",
   "name": "python",
   "nbconvert_exporter": "python",
   "pygments_lexer": "ipython3",
   "version": "3.8.8"
  }
 },
 "nbformat": 4,
 "nbformat_minor": 5
}
