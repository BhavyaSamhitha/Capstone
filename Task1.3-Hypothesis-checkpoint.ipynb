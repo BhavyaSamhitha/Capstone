{
 "cells": [
  {
   "cell_type": "markdown",
   "id": "5e0e9778",
   "metadata": {},
   "source": [
    "# Batch - C Group - 4\n",
    "### Bhavya Samhitha Mallineni"
   ]
  },
  {
   "cell_type": "code",
   "execution_count": 38,
   "id": "87bb6707",
   "metadata": {},
   "outputs": [],
   "source": [
    "import pandas as pd\n",
    "import numpy as np\n",
    "import seaborn as sn\n",
    "import matplotlib.pyplot as plt\n",
    "import scipy.stats as st"
   ]
  },
  {
   "cell_type": "code",
   "execution_count": 39,
   "id": "fda5b238",
   "metadata": {},
   "outputs": [],
   "source": [
    "df = pd.DataFrame(pd.read_csv('Hiring_details_with_status_LOB.csv',index_col = 0))"
   ]
  },
  {
   "cell_type": "code",
   "execution_count": 40,
   "id": "310d0374",
   "metadata": {},
   "outputs": [],
   "source": [
    "df['Age'].fillna(df['Age'].median(),inplace=True)\n",
    "df['Offered band'].fillna('E1',inplace=True)\n",
    "df = df.iloc[:,0:-1]"
   ]
  },
  {
   "cell_type": "code",
   "execution_count": 41,
   "id": "16f5218c",
   "metadata": {},
   "outputs": [
    {
     "name": "stdout",
     "output_type": "stream",
     "text": [
      "<class 'pandas.core.frame.DataFrame'>\n",
      "Int64Index: 8995 entries, 0 to 8994\n",
      "Data columns (total 19 columns):\n",
      " #   Column                       Non-Null Count  Dtype  \n",
      "---  ------                       --------------  -----  \n",
      " 0   Sno                          8995 non-null   int64  \n",
      " 1   Candidate Ref                8995 non-null   int64  \n",
      " 2   DOJ Extended                 8995 non-null   object \n",
      " 3   Duration to accept offer     8995 non-null   int64  \n",
      " 4   Notice period                8995 non-null   int64  \n",
      " 5   Offered band                 8995 non-null   object \n",
      " 6   Pecent hike expected in CTC  8995 non-null   float64\n",
      " 7   Percent hike offered in CTC  8995 non-null   float64\n",
      " 8   Percent difference CTC       8995 non-null   float64\n",
      " 9   Joining Bonus                8995 non-null   object \n",
      " 10  Candidate relocate actual    8995 non-null   object \n",
      " 11  Gender                       8995 non-null   object \n",
      " 12  Candidate Source             8995 non-null   object \n",
      " 13  Rex in Yrs                   8995 non-null   int64  \n",
      " 14  Location                     8995 non-null   object \n",
      " 15  Age                          8995 non-null   float64\n",
      " 16  LOB_id                       8995 non-null   int64  \n",
      " 17  Status                       8995 non-null   object \n",
      " 18  LOB                          8995 non-null   object \n",
      "dtypes: float64(4), int64(6), object(9)\n",
      "memory usage: 1.4+ MB\n"
     ]
    }
   ],
   "source": [
    "df.info()"
   ]
  },
  {
   "cell_type": "code",
   "execution_count": 42,
   "id": "ee100568",
   "metadata": {
    "scrolled": true
   },
   "outputs": [
    {
     "data": {
      "text/html": [
       "<div>\n",
       "<style scoped>\n",
       "    .dataframe tbody tr th:only-of-type {\n",
       "        vertical-align: middle;\n",
       "    }\n",
       "\n",
       "    .dataframe tbody tr th {\n",
       "        vertical-align: top;\n",
       "    }\n",
       "\n",
       "    .dataframe thead th {\n",
       "        text-align: right;\n",
       "    }\n",
       "</style>\n",
       "<table border=\"1\" class=\"dataframe\">\n",
       "  <thead>\n",
       "    <tr style=\"text-align: right;\">\n",
       "      <th></th>\n",
       "      <th>Sno</th>\n",
       "      <th>Candidate Ref</th>\n",
       "      <th>DOJ Extended</th>\n",
       "      <th>Duration to accept offer</th>\n",
       "      <th>Notice period</th>\n",
       "      <th>Offered band</th>\n",
       "      <th>Pecent hike expected in CTC</th>\n",
       "      <th>Percent hike offered in CTC</th>\n",
       "      <th>Percent difference CTC</th>\n",
       "      <th>Joining Bonus</th>\n",
       "      <th>Candidate relocate actual</th>\n",
       "      <th>Gender</th>\n",
       "      <th>Candidate Source</th>\n",
       "      <th>Rex in Yrs</th>\n",
       "      <th>Location</th>\n",
       "      <th>Age</th>\n",
       "      <th>LOB_id</th>\n",
       "      <th>Status</th>\n",
       "      <th>LOB</th>\n",
       "    </tr>\n",
       "  </thead>\n",
       "  <tbody>\n",
       "    <tr>\n",
       "      <th>0</th>\n",
       "      <td>1</td>\n",
       "      <td>2110407</td>\n",
       "      <td>Yes</td>\n",
       "      <td>14</td>\n",
       "      <td>30</td>\n",
       "      <td>E2</td>\n",
       "      <td>-20.79</td>\n",
       "      <td>13.16</td>\n",
       "      <td>42.86</td>\n",
       "      <td>No</td>\n",
       "      <td>No</td>\n",
       "      <td>Female</td>\n",
       "      <td>Agency</td>\n",
       "      <td>7</td>\n",
       "      <td>Noida</td>\n",
       "      <td>34.0</td>\n",
       "      <td>1</td>\n",
       "      <td>Joined</td>\n",
       "      <td>ERS</td>\n",
       "    </tr>\n",
       "    <tr>\n",
       "      <th>1</th>\n",
       "      <td>2</td>\n",
       "      <td>2112635</td>\n",
       "      <td>No</td>\n",
       "      <td>18</td>\n",
       "      <td>30</td>\n",
       "      <td>E2</td>\n",
       "      <td>50.00</td>\n",
       "      <td>320.00</td>\n",
       "      <td>180.00</td>\n",
       "      <td>No</td>\n",
       "      <td>No</td>\n",
       "      <td>Male</td>\n",
       "      <td>Employee Referral</td>\n",
       "      <td>8</td>\n",
       "      <td>Chennai</td>\n",
       "      <td>34.0</td>\n",
       "      <td>2</td>\n",
       "      <td>Joined</td>\n",
       "      <td>INFRA</td>\n",
       "    </tr>\n",
       "    <tr>\n",
       "      <th>2</th>\n",
       "      <td>3</td>\n",
       "      <td>2112838</td>\n",
       "      <td>No</td>\n",
       "      <td>3</td>\n",
       "      <td>45</td>\n",
       "      <td>E2</td>\n",
       "      <td>42.84</td>\n",
       "      <td>42.84</td>\n",
       "      <td>0.00</td>\n",
       "      <td>No</td>\n",
       "      <td>No</td>\n",
       "      <td>Male</td>\n",
       "      <td>Agency</td>\n",
       "      <td>4</td>\n",
       "      <td>Noida</td>\n",
       "      <td>27.0</td>\n",
       "      <td>2</td>\n",
       "      <td>Joined</td>\n",
       "      <td>INFRA</td>\n",
       "    </tr>\n",
       "    <tr>\n",
       "      <th>3</th>\n",
       "      <td>4</td>\n",
       "      <td>2115021</td>\n",
       "      <td>No</td>\n",
       "      <td>26</td>\n",
       "      <td>30</td>\n",
       "      <td>E2</td>\n",
       "      <td>42.84</td>\n",
       "      <td>42.84</td>\n",
       "      <td>0.00</td>\n",
       "      <td>No</td>\n",
       "      <td>No</td>\n",
       "      <td>Male</td>\n",
       "      <td>Employee Referral</td>\n",
       "      <td>4</td>\n",
       "      <td>Noida</td>\n",
       "      <td>34.0</td>\n",
       "      <td>2</td>\n",
       "      <td>Joined</td>\n",
       "      <td>INFRA</td>\n",
       "    </tr>\n",
       "    <tr>\n",
       "      <th>4</th>\n",
       "      <td>5</td>\n",
       "      <td>2115125</td>\n",
       "      <td>Yes</td>\n",
       "      <td>1</td>\n",
       "      <td>120</td>\n",
       "      <td>E2</td>\n",
       "      <td>42.59</td>\n",
       "      <td>42.59</td>\n",
       "      <td>0.00</td>\n",
       "      <td>No</td>\n",
       "      <td>Yes</td>\n",
       "      <td>Male</td>\n",
       "      <td>Employee Referral</td>\n",
       "      <td>6</td>\n",
       "      <td>Noida</td>\n",
       "      <td>34.0</td>\n",
       "      <td>2</td>\n",
       "      <td>Joined</td>\n",
       "      <td>INFRA</td>\n",
       "    </tr>\n",
       "  </tbody>\n",
       "</table>\n",
       "</div>"
      ],
      "text/plain": [
       "   Sno  Candidate Ref DOJ Extended  Duration to accept offer  Notice period  \\\n",
       "0    1        2110407          Yes                        14             30   \n",
       "1    2        2112635           No                        18             30   \n",
       "2    3        2112838           No                         3             45   \n",
       "3    4        2115021           No                        26             30   \n",
       "4    5        2115125          Yes                         1            120   \n",
       "\n",
       "  Offered band  Pecent hike expected in CTC  Percent hike offered in CTC  \\\n",
       "0           E2                       -20.79                        13.16   \n",
       "1           E2                        50.00                       320.00   \n",
       "2           E2                        42.84                        42.84   \n",
       "3           E2                        42.84                        42.84   \n",
       "4           E2                        42.59                        42.59   \n",
       "\n",
       "   Percent difference CTC Joining Bonus Candidate relocate actual  Gender  \\\n",
       "0                   42.86            No                        No  Female   \n",
       "1                  180.00            No                        No    Male   \n",
       "2                    0.00            No                        No    Male   \n",
       "3                    0.00            No                        No    Male   \n",
       "4                    0.00            No                       Yes    Male   \n",
       "\n",
       "    Candidate Source  Rex in Yrs Location   Age  LOB_id  Status    LOB  \n",
       "0             Agency           7    Noida  34.0       1  Joined    ERS  \n",
       "1  Employee Referral           8  Chennai  34.0       2  Joined  INFRA  \n",
       "2             Agency           4    Noida  27.0       2  Joined  INFRA  \n",
       "3  Employee Referral           4    Noida  34.0       2  Joined  INFRA  \n",
       "4  Employee Referral           6    Noida  34.0       2  Joined  INFRA  "
      ]
     },
     "execution_count": 42,
     "metadata": {},
     "output_type": "execute_result"
    }
   ],
   "source": [
    "df.head()"
   ]
  },
  {
   "cell_type": "markdown",
   "id": "23a088cd",
   "metadata": {},
   "source": [
    "# Descriptive Statistics\n",
    "## NUMERICAL\n",
    "\n",
    "### Measures of Central Tendency :Mean Median Mode Quartiles\n",
    "\n",
    "### Measures of Variability\n",
    "\n",
    "### Box Plot"
   ]
  },
  {
   "cell_type": "code",
   "execution_count": 43,
   "id": "d680778b",
   "metadata": {},
   "outputs": [
    {
     "data": {
      "text/plain": [
       "count    8995.000000\n",
       "mean       21.434464\n",
       "std        25.811616\n",
       "min         0.000000\n",
       "25%         3.000000\n",
       "50%        10.000000\n",
       "75%        33.000000\n",
       "max       224.000000\n",
       "Name: Duration to accept offer, dtype: float64"
      ]
     },
     "execution_count": 43,
     "metadata": {},
     "output_type": "execute_result"
    }
   ],
   "source": [
    "df['Duration to accept offer'].describe()"
   ]
  },
  {
   "cell_type": "code",
   "execution_count": 44,
   "id": "2dd1d2de",
   "metadata": {},
   "outputs": [
    {
     "data": {
      "text/plain": [
       "666.2395059247029"
      ]
     },
     "execution_count": 44,
     "metadata": {},
     "output_type": "execute_result"
    }
   ],
   "source": [
    "df['Duration to accept offer'].var()"
   ]
  },
  {
   "cell_type": "code",
   "execution_count": 45,
   "id": "e7533856",
   "metadata": {},
   "outputs": [
    {
     "data": {
      "text/plain": [
       "<AxesSubplot:ylabel='Duration to accept offer'>"
      ]
     },
     "execution_count": 45,
     "metadata": {},
     "output_type": "execute_result"
    },
    {
     "data": {
      "image/png": "[encoded data removed]",
      "text/plain": [
       "<Figure size 432x288 with 1 Axes>"
      ]
     },
     "metadata": {
      "needs_background": "light"
     },
     "output_type": "display_data"
    }
   ],
   "source": [
    "sn.boxplot(y=df['Duration to accept offer'])"
   ]
  },
  {
   "cell_type": "code",
   "execution_count": 46,
   "id": "cf48b57e",
   "metadata": {},
   "outputs": [
    {
     "data": {
      "text/plain": [
       "count    8995.000000\n",
       "mean       40.657356\n",
       "std        36.064060\n",
       "min       -60.530000\n",
       "25%        22.090000\n",
       "50%        36.000000\n",
       "75%        50.000000\n",
       "max       471.430000\n",
       "Name: Percent hike offered in CTC, dtype: float64"
      ]
     },
     "execution_count": 46,
     "metadata": {},
     "output_type": "execute_result"
    }
   ],
   "source": [
    "df['Percent hike offered in CTC'].describe()"
   ]
  },
  {
   "cell_type": "code",
   "execution_count": 47,
   "id": "88726d24",
   "metadata": {},
   "outputs": [
    {
     "data": {
      "text/plain": [
       "1300.6164100437013"
      ]
     },
     "execution_count": 47,
     "metadata": {},
     "output_type": "execute_result"
    }
   ],
   "source": [
    "df['Percent hike offered in CTC'].var()"
   ]
  },
  {
   "cell_type": "code",
   "execution_count": 48,
   "id": "0ce03c3a",
   "metadata": {},
   "outputs": [
    {
     "data": {
      "text/plain": [
       "<AxesSubplot:ylabel='Percent hike offered in CTC'>"
      ]
     },
     "execution_count": 48,
     "metadata": {},
     "output_type": "execute_result"
    },
    {
     "data": {
      "image/png": "[encoded data removed]",
      "text/plain": [
       "<Figure size 432x288 with 1 Axes>"
      ]
     },
     "metadata": {
      "needs_background": "light"
     },
     "output_type": "display_data"
    }
   ],
   "source": [
    "sn.boxplot(y=df['Percent hike offered in CTC'])"
   ]
  },
  {
   "cell_type": "code",
   "execution_count": 49,
   "id": "4a969f6c",
   "metadata": {
    "scrolled": true
   },
   "outputs": [
    {
     "data": {
      "text/plain": [
       "count    8995.000000\n",
       "mean       29.910506\n",
       "std         4.092452\n",
       "min        20.000000\n",
       "25%        27.000000\n",
       "50%        29.000000\n",
       "75%        34.000000\n",
       "max        60.000000\n",
       "Name: Age, dtype: float64"
      ]
     },
     "execution_count": 49,
     "metadata": {},
     "output_type": "execute_result"
    }
   ],
   "source": [
    "df.Age.describe()"
   ]
  },
  {
   "cell_type": "code",
   "execution_count": 50,
   "id": "d84faf09",
   "metadata": {},
   "outputs": [
    {
     "data": {
      "text/plain": [
       "16.748160684728756"
      ]
     },
     "execution_count": 50,
     "metadata": {},
     "output_type": "execute_result"
    }
   ],
   "source": [
    "df.Age.var()"
   ]
  },
  {
   "cell_type": "code",
   "execution_count": 51,
   "id": "02a1592b",
   "metadata": {},
   "outputs": [
    {
     "data": {
      "text/plain": [
       "<AxesSubplot:ylabel='Age'>"
      ]
     },
     "execution_count": 51,
     "metadata": {},
     "output_type": "execute_result"
    },
    {
     "data": {
      "image/png": "[encoded data removed]",
      "text/plain": [
       "<Figure size 432x288 with 1 Axes>"
      ]
     },
     "metadata": {
      "needs_background": "light"
     },
     "output_type": "display_data"
    }
   ],
   "source": [
    "sn.boxplot(y=df.Age)"
   ]
  },
  {
   "cell_type": "markdown",
   "id": "94211c00",
   "metadata": {},
   "source": [
    "### Categorical"
   ]
  },
  {
   "cell_type": "code",
   "execution_count": 52,
   "id": "b09f6c4a",
   "metadata": {},
   "outputs": [
    {
     "data": {
      "text/plain": [
       "Joined        7313\n",
       "Not Joined    1682\n",
       "Name: Status, dtype: int64"
      ]
     },
     "execution_count": 52,
     "metadata": {},
     "output_type": "execute_result"
    }
   ],
   "source": [
    "df.Status.value_counts()"
   ]
  },
  {
   "cell_type": "code",
   "execution_count": 53,
   "id": "21a5af0a",
   "metadata": {},
   "outputs": [
    {
     "name": "stderr",
     "output_type": "stream",
     "text": [
      "C:\\Users\\pranchauhan\\Anaconda3\\lib\\site-packages\\seaborn\\_decorators.py:36: FutureWarning: Pass the following variable as a keyword arg: x. From version 0.12, the only valid positional argument will be `data`, and passing other arguments without an explicit keyword will result in an error or misinterpretation.\n",
      "  warnings.warn(\n"
     ]
    },
    {
     "data": {
      "text/plain": [
       "<AxesSubplot:xlabel='Status', ylabel='count'>"
      ]
     },
     "execution_count": 53,
     "metadata": {},
     "output_type": "execute_result"
    },
    {
     "data": {
      "image/png": "[encoded data removed]",
      "text/plain": [
       "<Figure size 432x288 with 1 Axes>"
      ]
     },
     "metadata": {
      "needs_background": "light"
     },
     "output_type": "display_data"
    }
   ],
   "source": [
    "sn.countplot(df.Status)"
   ]
  },
  {
   "cell_type": "code",
   "execution_count": 54,
   "id": "5dc99e55",
   "metadata": {},
   "outputs": [
    {
     "name": "stderr",
     "output_type": "stream",
     "text": [
      "C:\\Users\\pranchauhan\\Anaconda3\\lib\\site-packages\\seaborn\\_decorators.py:36: FutureWarning: Pass the following variable as a keyword arg: x. From version 0.12, the only valid positional argument will be `data`, and passing other arguments without an explicit keyword will result in an error or misinterpretation.\n",
      "  warnings.warn(\n"
     ]
    },
    {
     "data": {
      "text/plain": [
       "<AxesSubplot:xlabel='Offered band', ylabel='count'>"
      ]
     },
     "execution_count": 54,
     "metadata": {},
     "output_type": "execute_result"
    },
    {
     "data": {
      "image/png": "[encoded data removed]",
      "text/plain": [
       "<Figure size 432x288 with 1 Axes>"
      ]
     },
     "metadata": {
      "needs_background": "light"
     },
     "output_type": "display_data"
    }
   ],
   "source": [
    "sn.countplot(df['Offered band'])"
   ]
  },
  {
   "cell_type": "code",
   "execution_count": 55,
   "id": "f251e4f3",
   "metadata": {},
   "outputs": [
    {
     "data": {
      "text/plain": [
       "<AxesSubplot:xlabel='Status', ylabel='count'>"
      ]
     },
     "execution_count": 55,
     "metadata": {},
     "output_type": "execute_result"
    },
    {
     "data": {
      "image/png": "[encoded data removed]",
      "text/plain": [
       "<Figure size 432x288 with 1 Axes>"
      ]
     },
     "metadata": {
      "needs_background": "light"
     },
     "output_type": "display_data"
    }
   ],
   "source": [
    "sn.countplot(x=df['Status'],hue=df['Offered band'])"
   ]
  },
  {
   "cell_type": "code",
   "execution_count": 56,
   "id": "20c4f1aa",
   "metadata": {},
   "outputs": [
    {
     "name": "stderr",
     "output_type": "stream",
     "text": [
      "C:\\Users\\pranchauhan\\Anaconda3\\lib\\site-packages\\seaborn\\_decorators.py:36: FutureWarning: Pass the following variable as a keyword arg: x. From version 0.12, the only valid positional argument will be `data`, and passing other arguments without an explicit keyword will result in an error or misinterpretation.\n",
      "  warnings.warn(\n"
     ]
    },
    {
     "data": {
      "text/plain": [
       "<AxesSubplot:xlabel='Gender', ylabel='count'>"
      ]
     },
     "execution_count": 56,
     "metadata": {},
     "output_type": "execute_result"
    },
    {
     "data": {
      "image/png": "[encoded data removed]",
      "text/plain": [
       "<Figure size 432x288 with 1 Axes>"
      ]
     },
     "metadata": {
      "needs_background": "light"
     },
     "output_type": "display_data"
    }
   ],
   "source": [
    "sn.countplot(df.Gender)"
   ]
  },
  {
   "cell_type": "code",
   "execution_count": 57,
   "id": "c8c0dd3a",
   "metadata": {},
   "outputs": [
    {
     "data": {
      "text/plain": [
       "<AxesSubplot:xlabel='Status', ylabel='count'>"
      ]
     },
     "execution_count": 57,
     "metadata": {},
     "output_type": "execute_result"
    },
    {
     "data": {
      "image/png": "[encoded data removed]",
      "text/plain": [
       "<Figure size 432x288 with 1 Axes>"
      ]
     },
     "metadata": {
      "needs_background": "light"
     },
     "output_type": "display_data"
    }
   ],
   "source": [
    "sn.countplot(x=df['Status'],hue=df['Gender'])"
   ]
  },
  {
   "cell_type": "code",
   "execution_count": 58,
   "id": "51024c9d",
   "metadata": {},
   "outputs": [
    {
     "data": {
      "text/plain": [
       "Chennai      3150\n",
       "Noida        2727\n",
       "Bangalore    2230\n",
       "Hyderabad     341\n",
       "Mumbai        197\n",
       "Gurgaon       146\n",
       "Kolkata       129\n",
       "Pune           48\n",
       "Others         13\n",
       "Cochin          8\n",
       "Ahmedabad       6\n",
       "Name: Location, dtype: int64"
      ]
     },
     "execution_count": 58,
     "metadata": {},
     "output_type": "execute_result"
    }
   ],
   "source": [
    "df.Location.value_counts()"
   ]
  },
  {
   "cell_type": "code",
   "execution_count": 59,
   "id": "349f7b5c",
   "metadata": {},
   "outputs": [
    {
     "data": {
      "text/plain": [
       "<AxesSubplot:xlabel='Status', ylabel='count'>"
      ]
     },
     "execution_count": 59,
     "metadata": {},
     "output_type": "execute_result"
    },
    {
     "data": {
      "image/png": "[encoded data removed]",
      "text/plain": [
       "<Figure size 432x288 with 1 Axes>"
      ]
     },
     "metadata": {
      "needs_background": "light"
     },
     "output_type": "display_data"
    }
   ],
   "source": [
    "sn.countplot(x=df['Status'],hue=df['Location'])"
   ]
  },
  {
   "cell_type": "code",
   "execution_count": 60,
   "id": "dd68e13e",
   "metadata": {},
   "outputs": [
    {
     "name": "stderr",
     "output_type": "stream",
     "text": [
      "C:\\Users\\pranchauhan\\Anaconda3\\lib\\site-packages\\seaborn\\_decorators.py:36: FutureWarning: Pass the following variable as a keyword arg: x. From version 0.12, the only valid positional argument will be `data`, and passing other arguments without an explicit keyword will result in an error or misinterpretation.\n",
      "  warnings.warn(\n"
     ]
    },
    {
     "data": {
      "text/plain": [
       "<AxesSubplot:xlabel='LOB', ylabel='count'>"
      ]
     },
     "execution_count": 60,
     "metadata": {},
     "output_type": "execute_result"
    },
    {
     "data": {
      "image/png": "[encoded data removed]",
      "text/plain": [
       "<Figure size 432x288 with 1 Axes>"
      ]
     },
     "metadata": {
      "needs_background": "light"
     },
     "output_type": "display_data"
    }
   ],
   "source": [
    "sn.countplot(df.LOB)"
   ]
  },
  {
   "cell_type": "code",
   "execution_count": 61,
   "id": "1878308e",
   "metadata": {},
   "outputs": [
    {
     "data": {
      "text/plain": [
       "<AxesSubplot:xlabel='Status', ylabel='count'>"
      ]
     },
     "execution_count": 61,
     "metadata": {},
     "output_type": "execute_result"
    },
    {
     "data": {
      "image/png": "[encoded data removed]",
      "text/plain": [
       "<Figure size 432x288 with 1 Axes>"
      ]
     },
     "metadata": {
      "needs_background": "light"
     },
     "output_type": "display_data"
    }
   ],
   "source": [
    "sn.countplot(x=df['Status'],hue=df['LOB'])"
   ]
  },
  {
   "cell_type": "code",
   "execution_count": 62,
   "id": "226b22e2",
   "metadata": {},
   "outputs": [
    {
     "data": {
      "text/plain": [
       "<AxesSubplot:xlabel='Status', ylabel='count'>"
      ]
     },
     "execution_count": 62,
     "metadata": {},
     "output_type": "execute_result"
    },
    {
     "data": {
      "image/png": "[encoded data removed]",
      "text/plain": [
       "<Figure size 432x288 with 1 Axes>"
      ]
     },
     "metadata": {
      "needs_background": "light"
     },
     "output_type": "display_data"
    }
   ],
   "source": [
    "sn.countplot(x=df['Status'],hue=df['Candidate Source'])"
   ]
  },
  {
   "cell_type": "markdown",
   "id": "9abde67f",
   "metadata": {},
   "source": [
    "# Skewness and Kurtosis"
   ]
  },
  {
   "cell_type": "code",
   "execution_count": 63,
   "id": "ce15a265",
   "metadata": {},
   "outputs": [
    {
     "name": "stderr",
     "output_type": "stream",
     "text": [
      "C:\\Users\\pranchauhan\\Anaconda3\\lib\\site-packages\\seaborn\\distributions.py:2557: FutureWarning: `distplot` is a deprecated function and will be removed in a future version. Please adapt your code to use either `displot` (a figure-level function with similar flexibility) or `histplot` (an axes-level function for histograms).\n",
      "  warnings.warn(msg, FutureWarning)\n"
     ]
    },
    {
     "data": {
      "text/plain": [
       "<AxesSubplot:xlabel='Duration to accept offer', ylabel='Density'>"
      ]
     },
     "execution_count": 63,
     "metadata": {},
     "output_type": "execute_result"
    },
    {
     "data": {
      "image/png": "[encoded data removed]",
      "text/plain": [
       "<Figure size 432x288 with 1 Axes>"
      ]
     },
     "metadata": {
      "needs_background": "light"
     },
     "output_type": "display_data"
    }
   ],
   "source": [
    "sn.distplot(df['Duration to accept offer'])"
   ]
  },
  {
   "cell_type": "code",
   "execution_count": 64,
   "id": "17129a88",
   "metadata": {},
   "outputs": [
    {
     "data": {
      "text/plain": [
       "1.6155334734181757"
      ]
     },
     "execution_count": 64,
     "metadata": {},
     "output_type": "execute_result"
    }
   ],
   "source": [
    "df['Duration to accept offer'].skew()"
   ]
  },
  {
   "cell_type": "markdown",
   "id": "871c273d",
   "metadata": {},
   "source": [
    "The data for duration to accept offer is positive skewed"
   ]
  },
  {
   "cell_type": "code",
   "execution_count": 65,
   "id": "155b6ed9",
   "metadata": {},
   "outputs": [
    {
     "data": {
      "text/plain": [
       "2.6573504381943884"
      ]
     },
     "execution_count": 65,
     "metadata": {},
     "output_type": "execute_result"
    }
   ],
   "source": [
    "df['Duration to accept offer'].kurtosis()"
   ]
  },
  {
   "cell_type": "markdown",
   "id": "9b4f28ab",
   "metadata": {},
   "source": [
    "kurtosis value is less than 3, so it can be said that data is platykurtic"
   ]
  },
  {
   "cell_type": "code",
   "execution_count": 66,
   "id": "7ca88356",
   "metadata": {},
   "outputs": [
    {
     "name": "stderr",
     "output_type": "stream",
     "text": [
      "C:\\Users\\pranchauhan\\Anaconda3\\lib\\site-packages\\seaborn\\distributions.py:2557: FutureWarning: `distplot` is a deprecated function and will be removed in a future version. Please adapt your code to use either `displot` (a figure-level function with similar flexibility) or `histplot` (an axes-level function for histograms).\n",
      "  warnings.warn(msg, FutureWarning)\n"
     ]
    },
    {
     "data": {
      "text/plain": [
       "<AxesSubplot:xlabel='Percent hike offered in CTC', ylabel='Density'>"
      ]
     },
     "execution_count": 66,
     "metadata": {},
     "output_type": "execute_result"
    },
    {
     "data": {
      "image/png": "[encoded data removed]",
      "text/plain": [
       "<Figure size 432x288 with 1 Axes>"
      ]
     },
     "metadata": {
      "needs_background": "light"
     },
     "output_type": "display_data"
    }
   ],
   "source": [
    "sn.distplot(df['Percent hike offered in CTC'])"
   ]
  },
  {
   "cell_type": "code",
   "execution_count": 67,
   "id": "8654ab4d",
   "metadata": {},
   "outputs": [
    {
     "data": {
      "text/plain": [
       "2.7550361867630553"
      ]
     },
     "execution_count": 67,
     "metadata": {},
     "output_type": "execute_result"
    }
   ],
   "source": [
    "df['Percent hike offered in CTC'].skew()"
   ]
  },
  {
   "cell_type": "markdown",
   "id": "42b92176",
   "metadata": {},
   "source": [
    "The data for Percent hike offered in CTC is positive skewed"
   ]
  },
  {
   "cell_type": "code",
   "execution_count": 68,
   "id": "6b16b6c6",
   "metadata": {},
   "outputs": [
    {
     "data": {
      "text/plain": [
       "15.932530321537978"
      ]
     },
     "execution_count": 68,
     "metadata": {},
     "output_type": "execute_result"
    }
   ],
   "source": [
    "df['Percent hike offered in CTC'].kurtosis()"
   ]
  },
  {
   "cell_type": "markdown",
   "id": "0b226fc8",
   "metadata": {},
   "source": [
    "kurtosis value is more than 3, so it can be said that data is leptokurtic"
   ]
  },
  {
   "cell_type": "code",
   "execution_count": 69,
   "id": "ffcc9c44",
   "metadata": {},
   "outputs": [
    {
     "name": "stderr",
     "output_type": "stream",
     "text": [
      "C:\\Users\\pranchauhan\\Anaconda3\\lib\\site-packages\\seaborn\\distributions.py:2557: FutureWarning: `distplot` is a deprecated function and will be removed in a future version. Please adapt your code to use either `displot` (a figure-level function with similar flexibility) or `histplot` (an axes-level function for histograms).\n",
      "  warnings.warn(msg, FutureWarning)\n"
     ]
    },
    {
     "data": {
      "text/plain": [
       "<AxesSubplot:xlabel='Age', ylabel='Density'>"
      ]
     },
     "execution_count": 69,
     "metadata": {},
     "output_type": "execute_result"
    },
    {
     "data": {
      "image/png": "[encoded data removed]",
      "text/plain": [
       "<Figure size 432x288 with 1 Axes>"
      ]
     },
     "metadata": {
      "needs_background": "light"
     },
     "output_type": "display_data"
    }
   ],
   "source": [
    "sn.distplot(df['Age'])"
   ]
  },
  {
   "cell_type": "code",
   "execution_count": 70,
   "id": "b3949126",
   "metadata": {},
   "outputs": [
    {
     "data": {
      "text/plain": [
       "0.4155006013732649"
      ]
     },
     "execution_count": 70,
     "metadata": {},
     "output_type": "execute_result"
    }
   ],
   "source": [
    "df['Age'].skew()"
   ]
  },
  {
   "cell_type": "markdown",
   "id": "0c7684f5",
   "metadata": {},
   "source": [
    "The Age of candidates is positive skewed"
   ]
  },
  {
   "cell_type": "code",
   "execution_count": 71,
   "id": "6ae6fa9f",
   "metadata": {},
   "outputs": [
    {
     "data": {
      "text/plain": [
       "0.3417585247643018"
      ]
     },
     "execution_count": 71,
     "metadata": {},
     "output_type": "execute_result"
    }
   ],
   "source": [
    "df['Age'].kurtosis()"
   ]
  },
  {
   "cell_type": "markdown",
   "id": "35e25b43",
   "metadata": {},
   "source": [
    "kurtosis value is less than 3, so it can be said that data is platykurtic"
   ]
  },
  {
   "cell_type": "markdown",
   "id": "de731450",
   "metadata": {},
   "source": [
    "# Hypothesis for Duration to accept offer"
   ]
  },
  {
   "cell_type": "markdown",
   "id": "607bce3a",
   "metadata": {},
   "source": [
    "alpha = 0.05"
   ]
  },
  {
   "cell_type": "code",
   "execution_count": 72,
   "id": "7cd8911c",
   "metadata": {},
   "outputs": [
    {
     "name": "stderr",
     "output_type": "stream",
     "text": [
      "C:\\Users\\pranchauhan\\Anaconda3\\lib\\site-packages\\scipy\\stats\\morestats.py:1681: UserWarning: p-value may not be accurate for N > 5000.\n",
      "  warnings.warn(\"p-value may not be accurate for N > 5000.\")\n"
     ]
    },
    {
     "data": {
      "text/plain": [
       "ShapiroResult(statistic=0.7927267551422119, pvalue=0.0)"
      ]
     },
     "execution_count": 72,
     "metadata": {},
     "output_type": "execute_result"
    }
   ],
   "source": [
    "st.shapiro(df['Duration to accept offer'])"
   ]
  },
  {
   "cell_type": "markdown",
   "id": "9405b79f",
   "metadata": {},
   "source": [
    "As we can observe the p-value is < alpha(0.05) we can say that the variable do not follow normal distribution"
   ]
  },
  {
   "cell_type": "markdown",
   "id": "b3c75c43",
   "metadata": {},
   "source": [
    "As the variable is a numerical variable we will now do non parametric test on this variable"
   ]
  },
  {
   "cell_type": "markdown",
   "id": "889f9206",
   "metadata": {},
   "source": [
    "    H0: mean of population are equal\n",
    "    H1: mean of population are not equal"
   ]
  },
  {
   "cell_type": "code",
   "execution_count": 73,
   "id": "88b83ea8",
   "metadata": {},
   "outputs": [
    {
     "data": {
      "text/plain": [
       "KruskalResult(statistic=14480.371467282952, pvalue=0.0)"
      ]
     },
     "execution_count": 73,
     "metadata": {},
     "output_type": "execute_result"
    }
   ],
   "source": [
    "dur = df['Duration to accept offer'].astype('str')\n",
    "st.kruskal(dur,df.Status)"
   ]
  },
  {
   "cell_type": "markdown",
   "id": "b98f7657",
   "metadata": {},
   "source": [
    "As we observe p-value < alpha, Hence we can say that H0 is rejected and H1 is accepted"
   ]
  },
  {
   "cell_type": "markdown",
   "id": "e409f340",
   "metadata": {},
   "source": [
    "According to this we can say that duration to accept variable does not affect our Status of a candidate"
   ]
  },
  {
   "cell_type": "markdown",
   "id": "8a013ace",
   "metadata": {},
   "source": [
    "# Hypothesis for location"
   ]
  },
  {
   "cell_type": "code",
   "execution_count": 74,
   "id": "fa179442",
   "metadata": {},
   "outputs": [
    {
     "data": {
      "text/html": [
       "<div>\n",
       "<style scoped>\n",
       "    .dataframe tbody tr th:only-of-type {\n",
       "        vertical-align: middle;\n",
       "    }\n",
       "\n",
       "    .dataframe tbody tr th {\n",
       "        vertical-align: top;\n",
       "    }\n",
       "\n",
       "    .dataframe thead th {\n",
       "        text-align: right;\n",
       "    }\n",
       "</style>\n",
       "<table border=\"1\" class=\"dataframe\">\n",
       "  <thead>\n",
       "    <tr style=\"text-align: right;\">\n",
       "      <th>Location</th>\n",
       "      <th>Ahmedabad</th>\n",
       "      <th>Bangalore</th>\n",
       "      <th>Chennai</th>\n",
       "      <th>Cochin</th>\n",
       "      <th>Gurgaon</th>\n",
       "      <th>Hyderabad</th>\n",
       "      <th>Kolkata</th>\n",
       "      <th>Mumbai</th>\n",
       "      <th>Noida</th>\n",
       "      <th>Others</th>\n",
       "      <th>Pune</th>\n",
       "    </tr>\n",
       "    <tr>\n",
       "      <th>Status</th>\n",
       "      <th></th>\n",
       "      <th></th>\n",
       "      <th></th>\n",
       "      <th></th>\n",
       "      <th></th>\n",
       "      <th></th>\n",
       "      <th></th>\n",
       "      <th></th>\n",
       "      <th></th>\n",
       "      <th></th>\n",
       "      <th></th>\n",
       "    </tr>\n",
       "  </thead>\n",
       "  <tbody>\n",
       "    <tr>\n",
       "      <th>Joined</th>\n",
       "      <td>5</td>\n",
       "      <td>1742</td>\n",
       "      <td>2486</td>\n",
       "      <td>7</td>\n",
       "      <td>118</td>\n",
       "      <td>266</td>\n",
       "      <td>100</td>\n",
       "      <td>176</td>\n",
       "      <td>2362</td>\n",
       "      <td>13</td>\n",
       "      <td>38</td>\n",
       "    </tr>\n",
       "    <tr>\n",
       "      <th>Not Joined</th>\n",
       "      <td>1</td>\n",
       "      <td>488</td>\n",
       "      <td>664</td>\n",
       "      <td>1</td>\n",
       "      <td>28</td>\n",
       "      <td>75</td>\n",
       "      <td>29</td>\n",
       "      <td>21</td>\n",
       "      <td>365</td>\n",
       "      <td>0</td>\n",
       "      <td>10</td>\n",
       "    </tr>\n",
       "  </tbody>\n",
       "</table>\n",
       "</div>"
      ],
      "text/plain": [
       "Location    Ahmedabad  Bangalore  Chennai  Cochin  Gurgaon  Hyderabad  \\\n",
       "Status                                                                  \n",
       "Joined              5       1742     2486       7      118        266   \n",
       "Not Joined          1        488      664       1       28         75   \n",
       "\n",
       "Location    Kolkata  Mumbai  Noida  Others  Pune  \n",
       "Status                                            \n",
       "Joined          100     176   2362      13    38  \n",
       "Not Joined       29      21    365       0    10  "
      ]
     },
     "execution_count": 74,
     "metadata": {},
     "output_type": "execute_result"
    }
   ],
   "source": [
    "table1 = pd.crosstab(df.Status, df.Location)\n",
    "table1"
   ]
  },
  {
   "cell_type": "markdown",
   "id": "7800c7c7",
   "metadata": {},
   "source": [
    "As both the variable are categorical we will use Chi-square test"
   ]
  },
  {
   "cell_type": "code",
   "execution_count": 75,
   "id": "13f34e31",
   "metadata": {
    "scrolled": true
   },
   "outputs": [
    {
     "data": {
      "text/html": [
       "<div>\n",
       "<style scoped>\n",
       "    .dataframe tbody tr th:only-of-type {\n",
       "        vertical-align: middle;\n",
       "    }\n",
       "\n",
       "    .dataframe tbody tr th {\n",
       "        vertical-align: top;\n",
       "    }\n",
       "\n",
       "    .dataframe thead th {\n",
       "        text-align: right;\n",
       "    }\n",
       "</style>\n",
       "<table border=\"1\" class=\"dataframe\">\n",
       "  <thead>\n",
       "    <tr style=\"text-align: right;\">\n",
       "      <th>Location</th>\n",
       "      <th>Ahmedabad</th>\n",
       "      <th>Bangalore</th>\n",
       "      <th>Chennai</th>\n",
       "      <th>Cochin</th>\n",
       "      <th>Gurgaon</th>\n",
       "      <th>Hyderabad</th>\n",
       "      <th>Kolkata</th>\n",
       "      <th>Mumbai</th>\n",
       "      <th>Noida</th>\n",
       "      <th>Others</th>\n",
       "      <th>Pune</th>\n",
       "    </tr>\n",
       "  </thead>\n",
       "  <tbody>\n",
       "    <tr>\n",
       "      <th>count</th>\n",
       "      <td>2.000000</td>\n",
       "      <td>2.000000</td>\n",
       "      <td>2.000000</td>\n",
       "      <td>2.000000</td>\n",
       "      <td>2.00000</td>\n",
       "      <td>2.000000</td>\n",
       "      <td>2.000000</td>\n",
       "      <td>2.000000</td>\n",
       "      <td>2.000000</td>\n",
       "      <td>2.000000</td>\n",
       "      <td>2.00000</td>\n",
       "    </tr>\n",
       "    <tr>\n",
       "      <th>mean</th>\n",
       "      <td>3.000000</td>\n",
       "      <td>1115.000000</td>\n",
       "      <td>1575.000000</td>\n",
       "      <td>4.000000</td>\n",
       "      <td>73.00000</td>\n",
       "      <td>170.500000</td>\n",
       "      <td>64.500000</td>\n",
       "      <td>98.500000</td>\n",
       "      <td>1363.500000</td>\n",
       "      <td>6.500000</td>\n",
       "      <td>24.00000</td>\n",
       "    </tr>\n",
       "    <tr>\n",
       "      <th>std</th>\n",
       "      <td>2.828427</td>\n",
       "      <td>886.711904</td>\n",
       "      <td>1288.348555</td>\n",
       "      <td>4.242641</td>\n",
       "      <td>63.63961</td>\n",
       "      <td>135.057395</td>\n",
       "      <td>50.204581</td>\n",
       "      <td>109.601551</td>\n",
       "      <td>1412.092242</td>\n",
       "      <td>9.192388</td>\n",
       "      <td>19.79899</td>\n",
       "    </tr>\n",
       "    <tr>\n",
       "      <th>min</th>\n",
       "      <td>1.000000</td>\n",
       "      <td>488.000000</td>\n",
       "      <td>664.000000</td>\n",
       "      <td>1.000000</td>\n",
       "      <td>28.00000</td>\n",
       "      <td>75.000000</td>\n",
       "      <td>29.000000</td>\n",
       "      <td>21.000000</td>\n",
       "      <td>365.000000</td>\n",
       "      <td>0.000000</td>\n",
       "      <td>10.00000</td>\n",
       "    </tr>\n",
       "    <tr>\n",
       "      <th>25%</th>\n",
       "      <td>2.000000</td>\n",
       "      <td>801.500000</td>\n",
       "      <td>1119.500000</td>\n",
       "      <td>2.500000</td>\n",
       "      <td>50.50000</td>\n",
       "      <td>122.750000</td>\n",
       "      <td>46.750000</td>\n",
       "      <td>59.750000</td>\n",
       "      <td>864.250000</td>\n",
       "      <td>3.250000</td>\n",
       "      <td>17.00000</td>\n",
       "    </tr>\n",
       "    <tr>\n",
       "      <th>50%</th>\n",
       "      <td>3.000000</td>\n",
       "      <td>1115.000000</td>\n",
       "      <td>1575.000000</td>\n",
       "      <td>4.000000</td>\n",
       "      <td>73.00000</td>\n",
       "      <td>170.500000</td>\n",
       "      <td>64.500000</td>\n",
       "      <td>98.500000</td>\n",
       "      <td>1363.500000</td>\n",
       "      <td>6.500000</td>\n",
       "      <td>24.00000</td>\n",
       "    </tr>\n",
       "    <tr>\n",
       "      <th>75%</th>\n",
       "      <td>4.000000</td>\n",
       "      <td>1428.500000</td>\n",
       "      <td>2030.500000</td>\n",
       "      <td>5.500000</td>\n",
       "      <td>95.50000</td>\n",
       "      <td>218.250000</td>\n",
       "      <td>82.250000</td>\n",
       "      <td>137.250000</td>\n",
       "      <td>1862.750000</td>\n",
       "      <td>9.750000</td>\n",
       "      <td>31.00000</td>\n",
       "    </tr>\n",
       "    <tr>\n",
       "      <th>max</th>\n",
       "      <td>5.000000</td>\n",
       "      <td>1742.000000</td>\n",
       "      <td>2486.000000</td>\n",
       "      <td>7.000000</td>\n",
       "      <td>118.00000</td>\n",
       "      <td>266.000000</td>\n",
       "      <td>100.000000</td>\n",
       "      <td>176.000000</td>\n",
       "      <td>2362.000000</td>\n",
       "      <td>13.000000</td>\n",
       "      <td>38.00000</td>\n",
       "    </tr>\n",
       "  </tbody>\n",
       "</table>\n",
       "</div>"
      ],
      "text/plain": [
       "Location  Ahmedabad    Bangalore      Chennai    Cochin    Gurgaon  \\\n",
       "count      2.000000     2.000000     2.000000  2.000000    2.00000   \n",
       "mean       3.000000  1115.000000  1575.000000  4.000000   73.00000   \n",
       "std        2.828427   886.711904  1288.348555  4.242641   63.63961   \n",
       "min        1.000000   488.000000   664.000000  1.000000   28.00000   \n",
       "25%        2.000000   801.500000  1119.500000  2.500000   50.50000   \n",
       "50%        3.000000  1115.000000  1575.000000  4.000000   73.00000   \n",
       "75%        4.000000  1428.500000  2030.500000  5.500000   95.50000   \n",
       "max        5.000000  1742.000000  2486.000000  7.000000  118.00000   \n",
       "\n",
       "Location   Hyderabad     Kolkata      Mumbai        Noida     Others      Pune  \n",
       "count       2.000000    2.000000    2.000000     2.000000   2.000000   2.00000  \n",
       "mean      170.500000   64.500000   98.500000  1363.500000   6.500000  24.00000  \n",
       "std       135.057395   50.204581  109.601551  1412.092242   9.192388  19.79899  \n",
       "min        75.000000   29.000000   21.000000   365.000000   0.000000  10.00000  \n",
       "25%       122.750000   46.750000   59.750000   864.250000   3.250000  17.00000  \n",
       "50%       170.500000   64.500000   98.500000  1363.500000   6.500000  24.00000  \n",
       "75%       218.250000   82.250000  137.250000  1862.750000   9.750000  31.00000  \n",
       "max       266.000000  100.000000  176.000000  2362.000000  13.000000  38.00000  "
      ]
     },
     "execution_count": 75,
     "metadata": {},
     "output_type": "execute_result"
    }
   ],
   "source": [
    "table1.describe()"
   ]
  },
  {
   "cell_type": "markdown",
   "id": "f452875d",
   "metadata": {},
   "source": [
    "    H0: The variables are not associated\n",
    "    H1: The variables are associated"
   ]
  },
  {
   "cell_type": "code",
   "execution_count": 76,
   "id": "2fb1c78a",
   "metadata": {},
   "outputs": [
    {
     "name": "stdout",
     "output_type": "stream",
     "text": [
      "1.5784067706590078e-15\n"
     ]
    }
   ],
   "source": [
    "x,pvalue,y,z = st.chi2_contingency(table1)\n",
    "print(pvalue)"
   ]
  },
  {
   "cell_type": "markdown",
   "id": "214d9a1a",
   "metadata": {},
   "source": [
    "As we can observe p-value < alpha(0.05) --> We will reject H0 and Accept H1\n",
    "### That is the location is associated with the Status of joining of candidate"
   ]
  },
  {
   "cell_type": "markdown",
   "id": "8e6226c4",
   "metadata": {},
   "source": [
    "# Hypothesis for Joining Bonus"
   ]
  },
  {
   "cell_type": "code",
   "execution_count": 77,
   "id": "3444c9d9",
   "metadata": {},
   "outputs": [
    {
     "data": {
      "text/html": [
       "<div>\n",
       "<style scoped>\n",
       "    .dataframe tbody tr th:only-of-type {\n",
       "        vertical-align: middle;\n",
       "    }\n",
       "\n",
       "    .dataframe tbody tr th {\n",
       "        vertical-align: top;\n",
       "    }\n",
       "\n",
       "    .dataframe thead th {\n",
       "        text-align: right;\n",
       "    }\n",
       "</style>\n",
       "<table border=\"1\" class=\"dataframe\">\n",
       "  <thead>\n",
       "    <tr style=\"text-align: right;\">\n",
       "      <th>Joining Bonus</th>\n",
       "      <th>No</th>\n",
       "      <th>Yes</th>\n",
       "    </tr>\n",
       "    <tr>\n",
       "      <th>Status</th>\n",
       "      <th></th>\n",
       "      <th></th>\n",
       "    </tr>\n",
       "  </thead>\n",
       "  <tbody>\n",
       "    <tr>\n",
       "      <th>Joined</th>\n",
       "      <td>6977</td>\n",
       "      <td>336</td>\n",
       "    </tr>\n",
       "    <tr>\n",
       "      <th>Not Joined</th>\n",
       "      <td>1601</td>\n",
       "      <td>81</td>\n",
       "    </tr>\n",
       "  </tbody>\n",
       "</table>\n",
       "</div>"
      ],
      "text/plain": [
       "Joining Bonus    No  Yes\n",
       "Status                  \n",
       "Joined         6977  336\n",
       "Not Joined     1601   81"
      ]
     },
     "execution_count": 77,
     "metadata": {},
     "output_type": "execute_result"
    }
   ],
   "source": [
    "table2 = pd.crosstab(df.Status, df['Joining Bonus'])\n",
    "table2"
   ]
  },
  {
   "cell_type": "code",
   "execution_count": 78,
   "id": "ac154907",
   "metadata": {
    "scrolled": true
   },
   "outputs": [
    {
     "data": {
      "text/html": [
       "<div>\n",
       "<style scoped>\n",
       "    .dataframe tbody tr th:only-of-type {\n",
       "        vertical-align: middle;\n",
       "    }\n",
       "\n",
       "    .dataframe tbody tr th {\n",
       "        vertical-align: top;\n",
       "    }\n",
       "\n",
       "    .dataframe thead th {\n",
       "        text-align: right;\n",
       "    }\n",
       "</style>\n",
       "<table border=\"1\" class=\"dataframe\">\n",
       "  <thead>\n",
       "    <tr style=\"text-align: right;\">\n",
       "      <th>Joining Bonus</th>\n",
       "      <th>No</th>\n",
       "      <th>Yes</th>\n",
       "    </tr>\n",
       "  </thead>\n",
       "  <tbody>\n",
       "    <tr>\n",
       "      <th>count</th>\n",
       "      <td>2.000000</td>\n",
       "      <td>2.000000</td>\n",
       "    </tr>\n",
       "    <tr>\n",
       "      <th>mean</th>\n",
       "      <td>4289.000000</td>\n",
       "      <td>208.500000</td>\n",
       "    </tr>\n",
       "    <tr>\n",
       "      <th>std</th>\n",
       "      <td>3801.406056</td>\n",
       "      <td>180.312229</td>\n",
       "    </tr>\n",
       "    <tr>\n",
       "      <th>min</th>\n",
       "      <td>1601.000000</td>\n",
       "      <td>81.000000</td>\n",
       "    </tr>\n",
       "    <tr>\n",
       "      <th>25%</th>\n",
       "      <td>2945.000000</td>\n",
       "      <td>144.750000</td>\n",
       "    </tr>\n",
       "    <tr>\n",
       "      <th>50%</th>\n",
       "      <td>4289.000000</td>\n",
       "      <td>208.500000</td>\n",
       "    </tr>\n",
       "    <tr>\n",
       "      <th>75%</th>\n",
       "      <td>5633.000000</td>\n",
       "      <td>272.250000</td>\n",
       "    </tr>\n",
       "    <tr>\n",
       "      <th>max</th>\n",
       "      <td>6977.000000</td>\n",
       "      <td>336.000000</td>\n",
       "    </tr>\n",
       "  </tbody>\n",
       "</table>\n",
       "</div>"
      ],
      "text/plain": [
       "Joining Bonus           No         Yes\n",
       "count             2.000000    2.000000\n",
       "mean           4289.000000  208.500000\n",
       "std            3801.406056  180.312229\n",
       "min            1601.000000   81.000000\n",
       "25%            2945.000000  144.750000\n",
       "50%            4289.000000  208.500000\n",
       "75%            5633.000000  272.250000\n",
       "max            6977.000000  336.000000"
      ]
     },
     "execution_count": 78,
     "metadata": {},
     "output_type": "execute_result"
    }
   ],
   "source": [
    "table2.describe()"
   ]
  },
  {
   "cell_type": "markdown",
   "id": "301902fc",
   "metadata": {},
   "source": [
    "    H0: The variables are not associated\n",
    "    H1: The variables are associated"
   ]
  },
  {
   "cell_type": "code",
   "execution_count": 79,
   "id": "ef3a102a",
   "metadata": {},
   "outputs": [
    {
     "name": "stdout",
     "output_type": "stream",
     "text": [
      "0.7454707857023846\n"
     ]
    }
   ],
   "source": [
    "x,pvalue,y,z = st.chi2_contingency(table2)\n",
    "print(pvalue)"
   ]
  },
  {
   "cell_type": "markdown",
   "id": "edc223ab",
   "metadata": {},
   "source": [
    "As we can observe p-value > alpha(0.05) --> We will accept H0\n",
    "### That is the Joining Bonus is not associated with the Status of joining of candidate"
   ]
  },
  {
   "cell_type": "markdown",
   "id": "78ac0b64",
   "metadata": {},
   "source": [
    "# Hypothesis for Gender"
   ]
  },
  {
   "cell_type": "code",
   "execution_count": 80,
   "id": "093a2df2",
   "metadata": {},
   "outputs": [
    {
     "data": {
      "text/html": [
       "<div>\n",
       "<style scoped>\n",
       "    .dataframe tbody tr th:only-of-type {\n",
       "        vertical-align: middle;\n",
       "    }\n",
       "\n",
       "    .dataframe tbody tr th {\n",
       "        vertical-align: top;\n",
       "    }\n",
       "\n",
       "    .dataframe thead th {\n",
       "        text-align: right;\n",
       "    }\n",
       "</style>\n",
       "<table border=\"1\" class=\"dataframe\">\n",
       "  <thead>\n",
       "    <tr style=\"text-align: right;\">\n",
       "      <th>Gender</th>\n",
       "      <th>Female</th>\n",
       "      <th>Male</th>\n",
       "    </tr>\n",
       "    <tr>\n",
       "      <th>Status</th>\n",
       "      <th></th>\n",
       "      <th></th>\n",
       "    </tr>\n",
       "  </thead>\n",
       "  <tbody>\n",
       "    <tr>\n",
       "      <th>Joined</th>\n",
       "      <td>1278</td>\n",
       "      <td>6035</td>\n",
       "    </tr>\n",
       "    <tr>\n",
       "      <th>Not Joined</th>\n",
       "      <td>273</td>\n",
       "      <td>1409</td>\n",
       "    </tr>\n",
       "  </tbody>\n",
       "</table>\n",
       "</div>"
      ],
      "text/plain": [
       "Gender      Female  Male\n",
       "Status                  \n",
       "Joined        1278  6035\n",
       "Not Joined     273  1409"
      ]
     },
     "execution_count": 80,
     "metadata": {},
     "output_type": "execute_result"
    }
   ],
   "source": [
    "table3 = pd.crosstab(df.Status, df['Gender'])\n",
    "table3"
   ]
  },
  {
   "cell_type": "code",
   "execution_count": 81,
   "id": "fba70d7d",
   "metadata": {
    "scrolled": false
   },
   "outputs": [
    {
     "data": {
      "text/html": [
       "<div>\n",
       "<style scoped>\n",
       "    .dataframe tbody tr th:only-of-type {\n",
       "        vertical-align: middle;\n",
       "    }\n",
       "\n",
       "    .dataframe tbody tr th {\n",
       "        vertical-align: top;\n",
       "    }\n",
       "\n",
       "    .dataframe thead th {\n",
       "        text-align: right;\n",
       "    }\n",
       "</style>\n",
       "<table border=\"1\" class=\"dataframe\">\n",
       "  <thead>\n",
       "    <tr style=\"text-align: right;\">\n",
       "      <th>Gender</th>\n",
       "      <th>Female</th>\n",
       "      <th>Male</th>\n",
       "    </tr>\n",
       "  </thead>\n",
       "  <tbody>\n",
       "    <tr>\n",
       "      <th>count</th>\n",
       "      <td>2.000000</td>\n",
       "      <td>2.00000</td>\n",
       "    </tr>\n",
       "    <tr>\n",
       "      <th>mean</th>\n",
       "      <td>775.500000</td>\n",
       "      <td>3722.00000</td>\n",
       "    </tr>\n",
       "    <tr>\n",
       "      <th>std</th>\n",
       "      <td>710.642315</td>\n",
       "      <td>3271.07597</td>\n",
       "    </tr>\n",
       "    <tr>\n",
       "      <th>min</th>\n",
       "      <td>273.000000</td>\n",
       "      <td>1409.00000</td>\n",
       "    </tr>\n",
       "    <tr>\n",
       "      <th>25%</th>\n",
       "      <td>524.250000</td>\n",
       "      <td>2565.50000</td>\n",
       "    </tr>\n",
       "    <tr>\n",
       "      <th>50%</th>\n",
       "      <td>775.500000</td>\n",
       "      <td>3722.00000</td>\n",
       "    </tr>\n",
       "    <tr>\n",
       "      <th>75%</th>\n",
       "      <td>1026.750000</td>\n",
       "      <td>4878.50000</td>\n",
       "    </tr>\n",
       "    <tr>\n",
       "      <th>max</th>\n",
       "      <td>1278.000000</td>\n",
       "      <td>6035.00000</td>\n",
       "    </tr>\n",
       "  </tbody>\n",
       "</table>\n",
       "</div>"
      ],
      "text/plain": [
       "Gender       Female        Male\n",
       "count      2.000000     2.00000\n",
       "mean     775.500000  3722.00000\n",
       "std      710.642315  3271.07597\n",
       "min      273.000000  1409.00000\n",
       "25%      524.250000  2565.50000\n",
       "50%      775.500000  3722.00000\n",
       "75%     1026.750000  4878.50000\n",
       "max     1278.000000  6035.00000"
      ]
     },
     "execution_count": 81,
     "metadata": {},
     "output_type": "execute_result"
    }
   ],
   "source": [
    "table3.describe()"
   ]
  },
  {
   "cell_type": "markdown",
   "id": "b762840a",
   "metadata": {},
   "source": [
    "    H0: The variables are not associated\n",
    "    H1: The variables are associated"
   ]
  },
  {
   "cell_type": "code",
   "execution_count": 82,
   "id": "2e278b0e",
   "metadata": {},
   "outputs": [
    {
     "name": "stdout",
     "output_type": "stream",
     "text": [
      "0.23679896899569233\n"
     ]
    }
   ],
   "source": [
    "x,pvalue,y,z = st.chi2_contingency(table3)\n",
    "print(pvalue)"
   ]
  },
  {
   "cell_type": "markdown",
   "id": "673d008c",
   "metadata": {},
   "source": [
    "As we can observe p-value > alpha(0.05) --> We will accept H0\n",
    "### That is the Gender is not associated with the Status of joining of candidate"
   ]
  },
  {
   "cell_type": "markdown",
   "id": "76cfd549",
   "metadata": {},
   "source": [
    "# Hypothesis for LOB"
   ]
  },
  {
   "cell_type": "code",
   "execution_count": 83,
   "id": "12ff3a8f",
   "metadata": {},
   "outputs": [
    {
     "data": {
      "text/html": [
       "<div>\n",
       "<style scoped>\n",
       "    .dataframe tbody tr th:only-of-type {\n",
       "        vertical-align: middle;\n",
       "    }\n",
       "\n",
       "    .dataframe tbody tr th {\n",
       "        vertical-align: top;\n",
       "    }\n",
       "\n",
       "    .dataframe thead th {\n",
       "        text-align: right;\n",
       "    }\n",
       "</style>\n",
       "<table border=\"1\" class=\"dataframe\">\n",
       "  <thead>\n",
       "    <tr style=\"text-align: right;\">\n",
       "      <th>LOB</th>\n",
       "      <th>AXON</th>\n",
       "      <th>BFSI</th>\n",
       "      <th>CSMP</th>\n",
       "      <th>EAS</th>\n",
       "      <th>ERS</th>\n",
       "      <th>ETS</th>\n",
       "      <th>Healthcare</th>\n",
       "      <th>INFRA</th>\n",
       "      <th>MMS</th>\n",
       "    </tr>\n",
       "    <tr>\n",
       "      <th>Status</th>\n",
       "      <th></th>\n",
       "      <th></th>\n",
       "      <th></th>\n",
       "      <th></th>\n",
       "      <th></th>\n",
       "      <th></th>\n",
       "      <th></th>\n",
       "      <th></th>\n",
       "      <th></th>\n",
       "    </tr>\n",
       "  </thead>\n",
       "  <tbody>\n",
       "    <tr>\n",
       "      <th>Joined</th>\n",
       "      <td>440</td>\n",
       "      <td>1059</td>\n",
       "      <td>472</td>\n",
       "      <td>254</td>\n",
       "      <td>1895</td>\n",
       "      <td>574</td>\n",
       "      <td>102</td>\n",
       "      <td>2502</td>\n",
       "      <td>15</td>\n",
       "    </tr>\n",
       "    <tr>\n",
       "      <th>Not Joined</th>\n",
       "      <td>128</td>\n",
       "      <td>337</td>\n",
       "      <td>107</td>\n",
       "      <td>92</td>\n",
       "      <td>531</td>\n",
       "      <td>117</td>\n",
       "      <td>22</td>\n",
       "      <td>348</td>\n",
       "      <td>0</td>\n",
       "    </tr>\n",
       "  </tbody>\n",
       "</table>\n",
       "</div>"
      ],
      "text/plain": [
       "LOB         AXON  BFSI  CSMP  EAS   ERS  ETS  Healthcare  INFRA  MMS\n",
       "Status                                                              \n",
       "Joined       440  1059   472  254  1895  574         102   2502   15\n",
       "Not Joined   128   337   107   92   531  117          22    348    0"
      ]
     },
     "execution_count": 83,
     "metadata": {},
     "output_type": "execute_result"
    }
   ],
   "source": [
    "table4 = pd.crosstab(df.Status, df['LOB'])\n",
    "table4"
   ]
  },
  {
   "cell_type": "code",
   "execution_count": 84,
   "id": "fa199825",
   "metadata": {
    "scrolled": false
   },
   "outputs": [
    {
     "data": {
      "text/html": [
       "<div>\n",
       "<style scoped>\n",
       "    .dataframe tbody tr th:only-of-type {\n",
       "        vertical-align: middle;\n",
       "    }\n",
       "\n",
       "    .dataframe tbody tr th {\n",
       "        vertical-align: top;\n",
       "    }\n",
       "\n",
       "    .dataframe thead th {\n",
       "        text-align: right;\n",
       "    }\n",
       "</style>\n",
       "<table border=\"1\" class=\"dataframe\">\n",
       "  <thead>\n",
       "    <tr style=\"text-align: right;\">\n",
       "      <th>LOB</th>\n",
       "      <th>AXON</th>\n",
       "      <th>BFSI</th>\n",
       "      <th>CSMP</th>\n",
       "      <th>EAS</th>\n",
       "      <th>ERS</th>\n",
       "      <th>ETS</th>\n",
       "      <th>Healthcare</th>\n",
       "      <th>INFRA</th>\n",
       "      <th>MMS</th>\n",
       "    </tr>\n",
       "  </thead>\n",
       "  <tbody>\n",
       "    <tr>\n",
       "      <th>count</th>\n",
       "      <td>2.000000</td>\n",
       "      <td>2.000000</td>\n",
       "      <td>2.000000</td>\n",
       "      <td>2.000000</td>\n",
       "      <td>2.00000</td>\n",
       "      <td>2.000000</td>\n",
       "      <td>2.000000</td>\n",
       "      <td>2.000000</td>\n",
       "      <td>2.000000</td>\n",
       "    </tr>\n",
       "    <tr>\n",
       "      <th>mean</th>\n",
       "      <td>284.000000</td>\n",
       "      <td>698.000000</td>\n",
       "      <td>289.500000</td>\n",
       "      <td>173.000000</td>\n",
       "      <td>1213.00000</td>\n",
       "      <td>345.500000</td>\n",
       "      <td>62.000000</td>\n",
       "      <td>1425.000000</td>\n",
       "      <td>7.500000</td>\n",
       "    </tr>\n",
       "    <tr>\n",
       "      <th>std</th>\n",
       "      <td>220.617316</td>\n",
       "      <td>510.531096</td>\n",
       "      <td>258.093975</td>\n",
       "      <td>114.551299</td>\n",
       "      <td>964.49365</td>\n",
       "      <td>323.147799</td>\n",
       "      <td>56.568542</td>\n",
       "      <td>1523.108007</td>\n",
       "      <td>10.606602</td>\n",
       "    </tr>\n",
       "    <tr>\n",
       "      <th>min</th>\n",
       "      <td>128.000000</td>\n",
       "      <td>337.000000</td>\n",
       "      <td>107.000000</td>\n",
       "      <td>92.000000</td>\n",
       "      <td>531.00000</td>\n",
       "      <td>117.000000</td>\n",
       "      <td>22.000000</td>\n",
       "      <td>348.000000</td>\n",
       "      <td>0.000000</td>\n",
       "    </tr>\n",
       "    <tr>\n",
       "      <th>25%</th>\n",
       "      <td>206.000000</td>\n",
       "      <td>517.500000</td>\n",
       "      <td>198.250000</td>\n",
       "      <td>132.500000</td>\n",
       "      <td>872.00000</td>\n",
       "      <td>231.250000</td>\n",
       "      <td>42.000000</td>\n",
       "      <td>886.500000</td>\n",
       "      <td>3.750000</td>\n",
       "    </tr>\n",
       "    <tr>\n",
       "      <th>50%</th>\n",
       "      <td>284.000000</td>\n",
       "      <td>698.000000</td>\n",
       "      <td>289.500000</td>\n",
       "      <td>173.000000</td>\n",
       "      <td>1213.00000</td>\n",
       "      <td>345.500000</td>\n",
       "      <td>62.000000</td>\n",
       "      <td>1425.000000</td>\n",
       "      <td>7.500000</td>\n",
       "    </tr>\n",
       "    <tr>\n",
       "      <th>75%</th>\n",
       "      <td>362.000000</td>\n",
       "      <td>878.500000</td>\n",
       "      <td>380.750000</td>\n",
       "      <td>213.500000</td>\n",
       "      <td>1554.00000</td>\n",
       "      <td>459.750000</td>\n",
       "      <td>82.000000</td>\n",
       "      <td>1963.500000</td>\n",
       "      <td>11.250000</td>\n",
       "    </tr>\n",
       "    <tr>\n",
       "      <th>max</th>\n",
       "      <td>440.000000</td>\n",
       "      <td>1059.000000</td>\n",
       "      <td>472.000000</td>\n",
       "      <td>254.000000</td>\n",
       "      <td>1895.00000</td>\n",
       "      <td>574.000000</td>\n",
       "      <td>102.000000</td>\n",
       "      <td>2502.000000</td>\n",
       "      <td>15.000000</td>\n",
       "    </tr>\n",
       "  </tbody>\n",
       "</table>\n",
       "</div>"
      ],
      "text/plain": [
       "LOB          AXON         BFSI        CSMP         EAS         ERS  \\\n",
       "count    2.000000     2.000000    2.000000    2.000000     2.00000   \n",
       "mean   284.000000   698.000000  289.500000  173.000000  1213.00000   \n",
       "std    220.617316   510.531096  258.093975  114.551299   964.49365   \n",
       "min    128.000000   337.000000  107.000000   92.000000   531.00000   \n",
       "25%    206.000000   517.500000  198.250000  132.500000   872.00000   \n",
       "50%    284.000000   698.000000  289.500000  173.000000  1213.00000   \n",
       "75%    362.000000   878.500000  380.750000  213.500000  1554.00000   \n",
       "max    440.000000  1059.000000  472.000000  254.000000  1895.00000   \n",
       "\n",
       "LOB           ETS  Healthcare        INFRA        MMS  \n",
       "count    2.000000    2.000000     2.000000   2.000000  \n",
       "mean   345.500000   62.000000  1425.000000   7.500000  \n",
       "std    323.147799   56.568542  1523.108007  10.606602  \n",
       "min    117.000000   22.000000   348.000000   0.000000  \n",
       "25%    231.250000   42.000000   886.500000   3.750000  \n",
       "50%    345.500000   62.000000  1425.000000   7.500000  \n",
       "75%    459.750000   82.000000  1963.500000  11.250000  \n",
       "max    574.000000  102.000000  2502.000000  15.000000  "
      ]
     },
     "execution_count": 84,
     "metadata": {},
     "output_type": "execute_result"
    }
   ],
   "source": [
    "table4.describe()"
   ]
  },
  {
   "cell_type": "markdown",
   "id": "df725c89",
   "metadata": {},
   "source": [
    "    H0: The variables are not associated\n",
    "    H1: The variables are associated"
   ]
  },
  {
   "cell_type": "code",
   "execution_count": 85,
   "id": "0527454d",
   "metadata": {},
   "outputs": [
    {
     "name": "stdout",
     "output_type": "stream",
     "text": [
      "8.393814703388281e-28\n"
     ]
    }
   ],
   "source": [
    "x,pvalue,y,z = st.chi2_contingency(table4)\n",
    "print(pvalue)"
   ]
  },
  {
   "cell_type": "markdown",
   "id": "d593e427",
   "metadata": {},
   "source": [
    "As we can observe p-value < alpha(0.05) --> We will reject H0 --> Accept H1\n",
    "### That is the LOB associated with the Status of joining of candidate"
   ]
  },
  {
   "cell_type": "markdown",
   "id": "2564af0a",
   "metadata": {},
   "source": [
    "# Hypothesis for Percent hike in CTC"
   ]
  },
  {
   "cell_type": "markdown",
   "id": "278deb6a",
   "metadata": {},
   "source": [
    "alpha = 0.05"
   ]
  },
  {
   "cell_type": "code",
   "execution_count": 86,
   "id": "614406a5",
   "metadata": {},
   "outputs": [
    {
     "name": "stderr",
     "output_type": "stream",
     "text": [
      "C:\\Users\\pranchauhan\\Anaconda3\\lib\\site-packages\\scipy\\stats\\morestats.py:1681: UserWarning: p-value may not be accurate for N > 5000.\n",
      "  warnings.warn(\"p-value may not be accurate for N > 5000.\")\n"
     ]
    },
    {
     "data": {
      "text/plain": [
       "ShapiroResult(statistic=0.8044019341468811, pvalue=0.0)"
      ]
     },
     "execution_count": 86,
     "metadata": {},
     "output_type": "execute_result"
    }
   ],
   "source": [
    "st.shapiro(df['Percent hike offered in CTC'])"
   ]
  },
  {
   "cell_type": "markdown",
   "id": "c88223eb",
   "metadata": {},
   "source": [
    "As we can observe the p-value is < alpha(0.05) we can say that the variable do not follow normal distribution"
   ]
  },
  {
   "cell_type": "markdown",
   "id": "dada465e",
   "metadata": {},
   "source": [
    "As the variable is a numerical variable we will now do non parametric test on this variable"
   ]
  },
  {
   "cell_type": "markdown",
   "id": "ab31f5c5",
   "metadata": {},
   "source": [
    "    H0: mean of population are equal\n",
    "    H1: mean of population are not equal"
   ]
  },
  {
   "cell_type": "code",
   "execution_count": 87,
   "id": "786f4a98",
   "metadata": {},
   "outputs": [
    {
     "data": {
      "text/plain": [
       "KruskalResult(statistic=14476.678619914197, pvalue=0.0)"
      ]
     },
     "execution_count": 87,
     "metadata": {},
     "output_type": "execute_result"
    }
   ],
   "source": [
    "per = df['Percent hike offered in CTC'].astype('str')\n",
    "st.kruskal(per,df.Status)"
   ]
  },
  {
   "cell_type": "markdown",
   "id": "814e37ab",
   "metadata": {},
   "source": [
    "As we observe p-value < alpha, Hence we can say that H0 is rejected and H1 is accepted"
   ]
  },
  {
   "cell_type": "markdown",
   "id": "fec6506b",
   "metadata": {},
   "source": [
    "According to this we can say that Percent hike offered in CTC variable does not affect our Status of a candidate"
   ]
  },
  {
   "cell_type": "markdown",
   "id": "28acac29",
   "metadata": {},
   "source": [
    "# Hypothesis for Age"
   ]
  },
  {
   "cell_type": "markdown",
   "id": "a00f5fd8",
   "metadata": {},
   "source": [
    "alpha = 0.05"
   ]
  },
  {
   "cell_type": "code",
   "execution_count": 88,
   "id": "cf74a244",
   "metadata": {},
   "outputs": [
    {
     "data": {
      "text/plain": [
       "ShapiroResult(statistic=0.9441733360290527, pvalue=0.0)"
      ]
     },
     "execution_count": 88,
     "metadata": {},
     "output_type": "execute_result"
    }
   ],
   "source": [
    "st.shapiro(df['Age'])"
   ]
  },
  {
   "cell_type": "markdown",
   "id": "0b17685a",
   "metadata": {},
   "source": [
    "As we can observe the p-value is < alpha(0.05) we can say that the variable do not follow normal distribution"
   ]
  },
  {
   "cell_type": "markdown",
   "id": "78b00405",
   "metadata": {},
   "source": [
    "As the variable is a numerical variable we will now do non parametric test on this variable"
   ]
  },
  {
   "cell_type": "markdown",
   "id": "5828abf7",
   "metadata": {},
   "source": [
    "    H0: mean of population are equal\n",
    "    H1: mean of population are not equal"
   ]
  },
  {
   "cell_type": "code",
   "execution_count": 89,
   "id": "5f6c80eb",
   "metadata": {},
   "outputs": [
    {
     "data": {
      "text/plain": [
       "KruskalResult(statistic=14509.80968687641, pvalue=0.0)"
      ]
     },
     "execution_count": 89,
     "metadata": {},
     "output_type": "execute_result"
    }
   ],
   "source": [
    "age = df['Age'].astype('str')\n",
    "st.kruskal(age,df.Status)"
   ]
  },
  {
   "cell_type": "markdown",
   "id": "adf0a9bb",
   "metadata": {},
   "source": [
    "As we observe p-value < alpha, Hence we can say that H0 is rejected and H1 is accepted"
   ]
  },
  {
   "cell_type": "markdown",
   "id": "db8a564b",
   "metadata": {},
   "source": [
    "According to this we can say that Age variable does not affect our Status of a candidate"
   ]
  },
  {
   "cell_type": "code",
   "execution_count": null,
   "id": "f228084b",
   "metadata": {},
   "outputs": [],
   "source": []
  }
 ],
 "metadata": {
  "kernelspec": {
   "display_name": "Python 3",
   "language": "python",
   "name": "python3"
  },
  "language_info": {
   "codemirror_mode": {
    "name": "ipython",
    "version": 3
   },
   "file_extension": ".py",
   "mimetype": "text/x-python",
   "name": "python",
   "nbconvert_exporter": "python",
   "pygments_lexer": "ipython3",
   "version": "3.8.8"
  }
 },
 "nbformat": 4,
 "nbformat_minor": 5
}
